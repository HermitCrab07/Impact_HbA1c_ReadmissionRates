{
  "cells": [
    {
      "cell_type": "markdown",
      "metadata": {
        "id": "view-in-github",
        "colab_type": "text"
      },
      "source": [
        "<a href=\"https://colab.research.google.com/github/HermitCrab07/Impact_of_HbA1c_on_Readmission_Rates/blob/main/_6_STXLEARNERS_Diabetes_130US_Hospitals_1999_2008_3_CAUSAL.ipynb\" target=\"_parent\"><img src=\"https://colab.research.google.com/assets/colab-badge.svg\" alt=\"Open In Colab\"/></a>"
      ]
    },
    {
      "cell_type": "code",
      "source": [
        "# Beata Strack, Jonathan P. DeShazo, Chris Gennings, Juan L. Olmo, Sebastian Ventura, Krzysztof J. Cios, and John N. Clore\n",
        "# Impact of HbA1c Measurement on Hospital Readmission Rates: Analysis of 70,000 Clinical Database Patient Records\n",
        "# BioMed Research International, vol. 2014, Article ID 781670, 11 pages, 2014.\n",
        "# Dataset was downloaded from UCI Machine Learning Repository.\n",
        "\n",
        "from google.colab import drive\n",
        "drive.mount('/content/drive')"
      ],
      "metadata": {
        "id": "V5saw-bmonl6",
        "colab": {
          "base_uri": "https://localhost:8080/"
        },
        "outputId": "df36715b-2004-460a-c835-05f332649960"
      },
      "execution_count": 1,
      "outputs": [
        {
          "output_type": "stream",
          "name": "stdout",
          "text": [
            "Drive already mounted at /content/drive; to attempt to forcibly remount, call drive.mount(\"/content/drive\", force_remount=True).\n"
          ]
        }
      ]
    },
    {
      "cell_type": "code",
      "source": [
        "# Beata Strack, Jonathan P. DeShazo, Chris Gennings, Juan L. Olmo, Sebastian Ventura, Krzysztof J. Cios, and John N. Clore\n",
        "# Impact of HbA1c Measurement on Hospital Readmission Rates: Analysis of 70,000 Clinical Database Patient Records\n",
        "# BioMed Research International, vol. 2014, Article ID 781670, 11 pages, 2014.\n",
        "# Dataset was downloaded from UCI Machine Learning Repository.\n",
        "\n",
        "import pandas as pd\n",
        "\n",
        "df = pd.read_csv('/content/drive/My Drive/Analysis_Diabetes_Dataset_CausalInference/reanalysis_diabetes_dataset.csv')\n",
        "df.describe()"
      ],
      "metadata": {
        "id": "D_Qm4ETQooZc",
        "colab": {
          "base_uri": "https://localhost:8080/",
          "height": 320
        },
        "outputId": "c3802f72-9fb8-4c1d-8c15-1c781baecf58"
      },
      "execution_count": 2,
      "outputs": [
        {
          "output_type": "execute_result",
          "data": {
            "text/plain": [
              "       encounter_id   patient_nbr  admission_type_id  \\\n",
              "count  7.151800e+04  7.151800e+04       71518.000000   \n",
              "mean   1.568156e+08  5.505160e+07           2.100254   \n",
              "std    1.003769e+08  3.947573e+07           1.508301   \n",
              "min    1.252200e+04  1.350000e+02           1.000000   \n",
              "25%    8.145807e+07  2.337577e+07           1.000000   \n",
              "50%    1.440574e+08  4.816680e+07           1.000000   \n",
              "75%    2.155513e+08  8.752222e+07           3.000000   \n",
              "max    4.438672e+08  1.895026e+08           8.000000   \n",
              "\n",
              "       discharge_disposition_id  admission_source_id  time_in_hospital  \\\n",
              "count              71518.000000         71518.000000       71518.00000   \n",
              "mean                   3.593235             5.657457           4.28913   \n",
              "std                    5.269771             4.162580           2.94921   \n",
              "min                    1.000000             1.000000           1.00000   \n",
              "25%                    1.000000             1.000000           2.00000   \n",
              "50%                    1.000000             7.000000           3.00000   \n",
              "75%                    3.000000             7.000000           6.00000   \n",
              "max                   28.000000            25.000000          14.00000   \n",
              "\n",
              "       num_lab_procedures  num_procedures  num_medications  number_outpatient  \\\n",
              "count        71518.000000    71518.000000     71518.000000       71518.000000   \n",
              "mean            43.075478        1.430577        15.705025           0.280069   \n",
              "std             19.952338        1.759864         8.311163           1.068957   \n",
              "min              1.000000        0.000000         1.000000           0.000000   \n",
              "25%             31.000000        0.000000        10.000000           0.000000   \n",
              "50%             44.000000        1.000000        14.000000           0.000000   \n",
              "75%             57.000000        2.000000        20.000000           0.000000   \n",
              "max            132.000000        6.000000        81.000000          42.000000   \n",
              "\n",
              "       number_emergency  number_inpatient  number_diagnoses     Treatment  \\\n",
              "count      71518.000000      71518.000000      71518.000000  71518.000000   \n",
              "mean           0.103540          0.177829          7.245700      0.215163   \n",
              "std            0.509187          0.603790          1.994674      0.410938   \n",
              "min            0.000000          0.000000          1.000000      0.000000   \n",
              "25%            0.000000          0.000000          6.000000      0.000000   \n",
              "50%            0.000000          0.000000          8.000000      0.000000   \n",
              "75%            0.000000          0.000000          9.000000      0.000000   \n",
              "max           42.000000         12.000000         16.000000      1.000000   \n",
              "\n",
              "            Insured   Readmission  \n",
              "count  71518.000000  71518.000000  \n",
              "mean       0.565941      0.398962  \n",
              "std        0.495636      0.489688  \n",
              "min        0.000000      0.000000  \n",
              "25%        0.000000      0.000000  \n",
              "50%        1.000000      0.000000  \n",
              "75%        1.000000      1.000000  \n",
              "max        1.000000      1.000000  "
            ],
            "text/html": [
              "\n",
              "  <div id=\"df-060cb688-cf5f-435c-a98a-6987c476ae3f\" class=\"colab-df-container\">\n",
              "    <div>\n",
              "<style scoped>\n",
              "    .dataframe tbody tr th:only-of-type {\n",
              "        vertical-align: middle;\n",
              "    }\n",
              "\n",
              "    .dataframe tbody tr th {\n",
              "        vertical-align: top;\n",
              "    }\n",
              "\n",
              "    .dataframe thead th {\n",
              "        text-align: right;\n",
              "    }\n",
              "</style>\n",
              "<table border=\"1\" class=\"dataframe\">\n",
              "  <thead>\n",
              "    <tr style=\"text-align: right;\">\n",
              "      <th></th>\n",
              "      <th>encounter_id</th>\n",
              "      <th>patient_nbr</th>\n",
              "      <th>admission_type_id</th>\n",
              "      <th>discharge_disposition_id</th>\n",
              "      <th>admission_source_id</th>\n",
              "      <th>time_in_hospital</th>\n",
              "      <th>num_lab_procedures</th>\n",
              "      <th>num_procedures</th>\n",
              "      <th>num_medications</th>\n",
              "      <th>number_outpatient</th>\n",
              "      <th>number_emergency</th>\n",
              "      <th>number_inpatient</th>\n",
              "      <th>number_diagnoses</th>\n",
              "      <th>Treatment</th>\n",
              "      <th>Insured</th>\n",
              "      <th>Readmission</th>\n",
              "    </tr>\n",
              "  </thead>\n",
              "  <tbody>\n",
              "    <tr>\n",
              "      <th>count</th>\n",
              "      <td>7.151800e+04</td>\n",
              "      <td>7.151800e+04</td>\n",
              "      <td>71518.000000</td>\n",
              "      <td>71518.000000</td>\n",
              "      <td>71518.000000</td>\n",
              "      <td>71518.00000</td>\n",
              "      <td>71518.000000</td>\n",
              "      <td>71518.000000</td>\n",
              "      <td>71518.000000</td>\n",
              "      <td>71518.000000</td>\n",
              "      <td>71518.000000</td>\n",
              "      <td>71518.000000</td>\n",
              "      <td>71518.000000</td>\n",
              "      <td>71518.000000</td>\n",
              "      <td>71518.000000</td>\n",
              "      <td>71518.000000</td>\n",
              "    </tr>\n",
              "    <tr>\n",
              "      <th>mean</th>\n",
              "      <td>1.568156e+08</td>\n",
              "      <td>5.505160e+07</td>\n",
              "      <td>2.100254</td>\n",
              "      <td>3.593235</td>\n",
              "      <td>5.657457</td>\n",
              "      <td>4.28913</td>\n",
              "      <td>43.075478</td>\n",
              "      <td>1.430577</td>\n",
              "      <td>15.705025</td>\n",
              "      <td>0.280069</td>\n",
              "      <td>0.103540</td>\n",
              "      <td>0.177829</td>\n",
              "      <td>7.245700</td>\n",
              "      <td>0.215163</td>\n",
              "      <td>0.565941</td>\n",
              "      <td>0.398962</td>\n",
              "    </tr>\n",
              "    <tr>\n",
              "      <th>std</th>\n",
              "      <td>1.003769e+08</td>\n",
              "      <td>3.947573e+07</td>\n",
              "      <td>1.508301</td>\n",
              "      <td>5.269771</td>\n",
              "      <td>4.162580</td>\n",
              "      <td>2.94921</td>\n",
              "      <td>19.952338</td>\n",
              "      <td>1.759864</td>\n",
              "      <td>8.311163</td>\n",
              "      <td>1.068957</td>\n",
              "      <td>0.509187</td>\n",
              "      <td>0.603790</td>\n",
              "      <td>1.994674</td>\n",
              "      <td>0.410938</td>\n",
              "      <td>0.495636</td>\n",
              "      <td>0.489688</td>\n",
              "    </tr>\n",
              "    <tr>\n",
              "      <th>min</th>\n",
              "      <td>1.252200e+04</td>\n",
              "      <td>1.350000e+02</td>\n",
              "      <td>1.000000</td>\n",
              "      <td>1.000000</td>\n",
              "      <td>1.000000</td>\n",
              "      <td>1.00000</td>\n",
              "      <td>1.000000</td>\n",
              "      <td>0.000000</td>\n",
              "      <td>1.000000</td>\n",
              "      <td>0.000000</td>\n",
              "      <td>0.000000</td>\n",
              "      <td>0.000000</td>\n",
              "      <td>1.000000</td>\n",
              "      <td>0.000000</td>\n",
              "      <td>0.000000</td>\n",
              "      <td>0.000000</td>\n",
              "    </tr>\n",
              "    <tr>\n",
              "      <th>25%</th>\n",
              "      <td>8.145807e+07</td>\n",
              "      <td>2.337577e+07</td>\n",
              "      <td>1.000000</td>\n",
              "      <td>1.000000</td>\n",
              "      <td>1.000000</td>\n",
              "      <td>2.00000</td>\n",
              "      <td>31.000000</td>\n",
              "      <td>0.000000</td>\n",
              "      <td>10.000000</td>\n",
              "      <td>0.000000</td>\n",
              "      <td>0.000000</td>\n",
              "      <td>0.000000</td>\n",
              "      <td>6.000000</td>\n",
              "      <td>0.000000</td>\n",
              "      <td>0.000000</td>\n",
              "      <td>0.000000</td>\n",
              "    </tr>\n",
              "    <tr>\n",
              "      <th>50%</th>\n",
              "      <td>1.440574e+08</td>\n",
              "      <td>4.816680e+07</td>\n",
              "      <td>1.000000</td>\n",
              "      <td>1.000000</td>\n",
              "      <td>7.000000</td>\n",
              "      <td>3.00000</td>\n",
              "      <td>44.000000</td>\n",
              "      <td>1.000000</td>\n",
              "      <td>14.000000</td>\n",
              "      <td>0.000000</td>\n",
              "      <td>0.000000</td>\n",
              "      <td>0.000000</td>\n",
              "      <td>8.000000</td>\n",
              "      <td>0.000000</td>\n",
              "      <td>1.000000</td>\n",
              "      <td>0.000000</td>\n",
              "    </tr>\n",
              "    <tr>\n",
              "      <th>75%</th>\n",
              "      <td>2.155513e+08</td>\n",
              "      <td>8.752222e+07</td>\n",
              "      <td>3.000000</td>\n",
              "      <td>3.000000</td>\n",
              "      <td>7.000000</td>\n",
              "      <td>6.00000</td>\n",
              "      <td>57.000000</td>\n",
              "      <td>2.000000</td>\n",
              "      <td>20.000000</td>\n",
              "      <td>0.000000</td>\n",
              "      <td>0.000000</td>\n",
              "      <td>0.000000</td>\n",
              "      <td>9.000000</td>\n",
              "      <td>0.000000</td>\n",
              "      <td>1.000000</td>\n",
              "      <td>1.000000</td>\n",
              "    </tr>\n",
              "    <tr>\n",
              "      <th>max</th>\n",
              "      <td>4.438672e+08</td>\n",
              "      <td>1.895026e+08</td>\n",
              "      <td>8.000000</td>\n",
              "      <td>28.000000</td>\n",
              "      <td>25.000000</td>\n",
              "      <td>14.00000</td>\n",
              "      <td>132.000000</td>\n",
              "      <td>6.000000</td>\n",
              "      <td>81.000000</td>\n",
              "      <td>42.000000</td>\n",
              "      <td>42.000000</td>\n",
              "      <td>12.000000</td>\n",
              "      <td>16.000000</td>\n",
              "      <td>1.000000</td>\n",
              "      <td>1.000000</td>\n",
              "      <td>1.000000</td>\n",
              "    </tr>\n",
              "  </tbody>\n",
              "</table>\n",
              "</div>\n",
              "    <div class=\"colab-df-buttons\">\n",
              "\n",
              "  <div class=\"colab-df-container\">\n",
              "    <button class=\"colab-df-convert\" onclick=\"convertToInteractive('df-060cb688-cf5f-435c-a98a-6987c476ae3f')\"\n",
              "            title=\"Convert this dataframe to an interactive table.\"\n",
              "            style=\"display:none;\">\n",
              "\n",
              "  <svg xmlns=\"http://www.w3.org/2000/svg\" height=\"24px\" viewBox=\"0 -960 960 960\">\n",
              "    <path d=\"M120-120v-720h720v720H120Zm60-500h600v-160H180v160Zm220 220h160v-160H400v160Zm0 220h160v-160H400v160ZM180-400h160v-160H180v160Zm440 0h160v-160H620v160ZM180-180h160v-160H180v160Zm440 0h160v-160H620v160Z\"/>\n",
              "  </svg>\n",
              "    </button>\n",
              "\n",
              "  <style>\n",
              "    .colab-df-container {\n",
              "      display:flex;\n",
              "      gap: 12px;\n",
              "    }\n",
              "\n",
              "    .colab-df-convert {\n",
              "      background-color: #E8F0FE;\n",
              "      border: none;\n",
              "      border-radius: 50%;\n",
              "      cursor: pointer;\n",
              "      display: none;\n",
              "      fill: #1967D2;\n",
              "      height: 32px;\n",
              "      padding: 0 0 0 0;\n",
              "      width: 32px;\n",
              "    }\n",
              "\n",
              "    .colab-df-convert:hover {\n",
              "      background-color: #E2EBFA;\n",
              "      box-shadow: 0px 1px 2px rgba(60, 64, 67, 0.3), 0px 1px 3px 1px rgba(60, 64, 67, 0.15);\n",
              "      fill: #174EA6;\n",
              "    }\n",
              "\n",
              "    .colab-df-buttons div {\n",
              "      margin-bottom: 4px;\n",
              "    }\n",
              "\n",
              "    [theme=dark] .colab-df-convert {\n",
              "      background-color: #3B4455;\n",
              "      fill: #D2E3FC;\n",
              "    }\n",
              "\n",
              "    [theme=dark] .colab-df-convert:hover {\n",
              "      background-color: #434B5C;\n",
              "      box-shadow: 0px 1px 3px 1px rgba(0, 0, 0, 0.15);\n",
              "      filter: drop-shadow(0px 1px 2px rgba(0, 0, 0, 0.3));\n",
              "      fill: #FFFFFF;\n",
              "    }\n",
              "  </style>\n",
              "\n",
              "    <script>\n",
              "      const buttonEl =\n",
              "        document.querySelector('#df-060cb688-cf5f-435c-a98a-6987c476ae3f button.colab-df-convert');\n",
              "      buttonEl.style.display =\n",
              "        google.colab.kernel.accessAllowed ? 'block' : 'none';\n",
              "\n",
              "      async function convertToInteractive(key) {\n",
              "        const element = document.querySelector('#df-060cb688-cf5f-435c-a98a-6987c476ae3f');\n",
              "        const dataTable =\n",
              "          await google.colab.kernel.invokeFunction('convertToInteractive',\n",
              "                                                    [key], {});\n",
              "        if (!dataTable) return;\n",
              "\n",
              "        const docLinkHtml = 'Like what you see? Visit the ' +\n",
              "          '<a target=\"_blank\" href=https://colab.research.google.com/notebooks/data_table.ipynb>data table notebook</a>'\n",
              "          + ' to learn more about interactive tables.';\n",
              "        element.innerHTML = '';\n",
              "        dataTable['output_type'] = 'display_data';\n",
              "        await google.colab.output.renderOutput(dataTable, element);\n",
              "        const docLink = document.createElement('div');\n",
              "        docLink.innerHTML = docLinkHtml;\n",
              "        element.appendChild(docLink);\n",
              "      }\n",
              "    </script>\n",
              "  </div>\n",
              "\n",
              "\n",
              "<div id=\"df-eacd9775-c9a1-46a0-95f6-363868294078\">\n",
              "  <button class=\"colab-df-quickchart\" onclick=\"quickchart('df-eacd9775-c9a1-46a0-95f6-363868294078')\"\n",
              "            title=\"Suggest charts\"\n",
              "            style=\"display:none;\">\n",
              "\n",
              "<svg xmlns=\"http://www.w3.org/2000/svg\" height=\"24px\"viewBox=\"0 0 24 24\"\n",
              "     width=\"24px\">\n",
              "    <g>\n",
              "        <path d=\"M19 3H5c-1.1 0-2 .9-2 2v14c0 1.1.9 2 2 2h14c1.1 0 2-.9 2-2V5c0-1.1-.9-2-2-2zM9 17H7v-7h2v7zm4 0h-2V7h2v10zm4 0h-2v-4h2v4z\"/>\n",
              "    </g>\n",
              "</svg>\n",
              "  </button>\n",
              "\n",
              "<style>\n",
              "  .colab-df-quickchart {\n",
              "      --bg-color: #E8F0FE;\n",
              "      --fill-color: #1967D2;\n",
              "      --hover-bg-color: #E2EBFA;\n",
              "      --hover-fill-color: #174EA6;\n",
              "      --disabled-fill-color: #AAA;\n",
              "      --disabled-bg-color: #DDD;\n",
              "  }\n",
              "\n",
              "  [theme=dark] .colab-df-quickchart {\n",
              "      --bg-color: #3B4455;\n",
              "      --fill-color: #D2E3FC;\n",
              "      --hover-bg-color: #434B5C;\n",
              "      --hover-fill-color: #FFFFFF;\n",
              "      --disabled-bg-color: #3B4455;\n",
              "      --disabled-fill-color: #666;\n",
              "  }\n",
              "\n",
              "  .colab-df-quickchart {\n",
              "    background-color: var(--bg-color);\n",
              "    border: none;\n",
              "    border-radius: 50%;\n",
              "    cursor: pointer;\n",
              "    display: none;\n",
              "    fill: var(--fill-color);\n",
              "    height: 32px;\n",
              "    padding: 0;\n",
              "    width: 32px;\n",
              "  }\n",
              "\n",
              "  .colab-df-quickchart:hover {\n",
              "    background-color: var(--hover-bg-color);\n",
              "    box-shadow: 0 1px 2px rgba(60, 64, 67, 0.3), 0 1px 3px 1px rgba(60, 64, 67, 0.15);\n",
              "    fill: var(--button-hover-fill-color);\n",
              "  }\n",
              "\n",
              "  .colab-df-quickchart-complete:disabled,\n",
              "  .colab-df-quickchart-complete:disabled:hover {\n",
              "    background-color: var(--disabled-bg-color);\n",
              "    fill: var(--disabled-fill-color);\n",
              "    box-shadow: none;\n",
              "  }\n",
              "\n",
              "  .colab-df-spinner {\n",
              "    border: 2px solid var(--fill-color);\n",
              "    border-color: transparent;\n",
              "    border-bottom-color: var(--fill-color);\n",
              "    animation:\n",
              "      spin 1s steps(1) infinite;\n",
              "  }\n",
              "\n",
              "  @keyframes spin {\n",
              "    0% {\n",
              "      border-color: transparent;\n",
              "      border-bottom-color: var(--fill-color);\n",
              "      border-left-color: var(--fill-color);\n",
              "    }\n",
              "    20% {\n",
              "      border-color: transparent;\n",
              "      border-left-color: var(--fill-color);\n",
              "      border-top-color: var(--fill-color);\n",
              "    }\n",
              "    30% {\n",
              "      border-color: transparent;\n",
              "      border-left-color: var(--fill-color);\n",
              "      border-top-color: var(--fill-color);\n",
              "      border-right-color: var(--fill-color);\n",
              "    }\n",
              "    40% {\n",
              "      border-color: transparent;\n",
              "      border-right-color: var(--fill-color);\n",
              "      border-top-color: var(--fill-color);\n",
              "    }\n",
              "    60% {\n",
              "      border-color: transparent;\n",
              "      border-right-color: var(--fill-color);\n",
              "    }\n",
              "    80% {\n",
              "      border-color: transparent;\n",
              "      border-right-color: var(--fill-color);\n",
              "      border-bottom-color: var(--fill-color);\n",
              "    }\n",
              "    90% {\n",
              "      border-color: transparent;\n",
              "      border-bottom-color: var(--fill-color);\n",
              "    }\n",
              "  }\n",
              "</style>\n",
              "\n",
              "  <script>\n",
              "    async function quickchart(key) {\n",
              "      const quickchartButtonEl =\n",
              "        document.querySelector('#' + key + ' button');\n",
              "      quickchartButtonEl.disabled = true;  // To prevent multiple clicks.\n",
              "      quickchartButtonEl.classList.add('colab-df-spinner');\n",
              "      try {\n",
              "        const charts = await google.colab.kernel.invokeFunction(\n",
              "            'suggestCharts', [key], {});\n",
              "      } catch (error) {\n",
              "        console.error('Error during call to suggestCharts:', error);\n",
              "      }\n",
              "      quickchartButtonEl.classList.remove('colab-df-spinner');\n",
              "      quickchartButtonEl.classList.add('colab-df-quickchart-complete');\n",
              "    }\n",
              "    (() => {\n",
              "      let quickchartButtonEl =\n",
              "        document.querySelector('#df-eacd9775-c9a1-46a0-95f6-363868294078 button');\n",
              "      quickchartButtonEl.style.display =\n",
              "        google.colab.kernel.accessAllowed ? 'block' : 'none';\n",
              "    })();\n",
              "  </script>\n",
              "</div>\n",
              "\n",
              "    </div>\n",
              "  </div>\n"
            ],
            "application/vnd.google.colaboratory.intrinsic+json": {
              "type": "dataframe",
              "summary": "{\n  \"name\": \"df\",\n  \"rows\": 8,\n  \"fields\": [\n    {\n      \"column\": \"encounter_id\",\n      \"properties\": {\n        \"dtype\": \"number\",\n        \"std\": 142655668.1616928,\n        \"min\": 12522.0,\n        \"max\": 443867222.0,\n        \"num_unique_values\": 8,\n        \"samples\": [\n          156815588.29533824,\n          144057399.0,\n          71518.0\n        ],\n        \"semantic_type\": \"\",\n        \"description\": \"\"\n      }\n    },\n    {\n      \"column\": \"patient_nbr\",\n      \"properties\": {\n        \"dtype\": \"number\",\n        \"std\": 61501811.29312312,\n        \"min\": 135.0,\n        \"max\": 189502619.0,\n        \"num_unique_values\": 8,\n        \"samples\": [\n          55051603.79995246,\n          48166798.5,\n          71518.0\n        ],\n        \"semantic_type\": \"\",\n        \"description\": \"\"\n      }\n    },\n    {\n      \"column\": \"admission_type_id\",\n      \"properties\": {\n        \"dtype\": \"number\",\n        \"std\": 25284.542130547074,\n        \"min\": 1.0,\n        \"max\": 71518.0,\n        \"num_unique_values\": 6,\n        \"samples\": [\n          71518.0,\n          2.1002544813893005,\n          8.0\n        ],\n        \"semantic_type\": \"\",\n        \"description\": \"\"\n      }\n    },\n    {\n      \"column\": \"discharge_disposition_id\",\n      \"properties\": {\n        \"dtype\": \"number\",\n        \"std\": 25283.26810195737,\n        \"min\": 1.0,\n        \"max\": 71518.0,\n        \"num_unique_values\": 6,\n        \"samples\": [\n          71518.0,\n          3.593235269442658,\n          28.0\n        ],\n        \"semantic_type\": \"\",\n        \"description\": \"\"\n      }\n    },\n    {\n      \"column\": \"admission_source_id\",\n      \"properties\": {\n        \"dtype\": \"number\",\n        \"std\": 25282.865734229985,\n        \"min\": 1.0,\n        \"max\": 71518.0,\n        \"num_unique_values\": 6,\n        \"samples\": [\n          71518.0,\n          5.657456864006265,\n          25.0\n        ],\n        \"semantic_type\": \"\",\n        \"description\": \"\"\n      }\n    },\n    {\n      \"column\": \"time_in_hospital\",\n      \"properties\": {\n        \"dtype\": \"number\",\n        \"std\": 25283.75292440641,\n        \"min\": 1.0,\n        \"max\": 71518.0,\n        \"num_unique_values\": 8,\n        \"samples\": [\n          4.289130009228446,\n          3.0,\n          71518.0\n        ],\n        \"semantic_type\": \"\",\n        \"description\": \"\"\n      }\n    },\n    {\n      \"column\": \"num_lab_procedures\",\n      \"properties\": {\n        \"dtype\": \"number\",\n        \"std\": 25268.89302930531,\n        \"min\": 1.0,\n        \"max\": 71518.0,\n        \"num_unique_values\": 8,\n        \"samples\": [\n          43.07547750216729,\n          44.0,\n          71518.0\n        ],\n        \"semantic_type\": \"\",\n        \"description\": \"\"\n      }\n    },\n    {\n      \"column\": \"num_procedures\",\n      \"properties\": {\n        \"dtype\": \"number\",\n        \"std\": 25284.815748587425,\n        \"min\": 0.0,\n        \"max\": 71518.0,\n        \"num_unique_values\": 7,\n        \"samples\": [\n          71518.0,\n          1.4305769176990408,\n          2.0\n        ],\n        \"semantic_type\": \"\",\n        \"description\": \"\"\n      }\n    },\n    {\n      \"column\": \"num_medications\",\n      \"properties\": {\n        \"dtype\": \"number\",\n        \"std\": 25277.86674340804,\n        \"min\": 1.0,\n        \"max\": 71518.0,\n        \"num_unique_values\": 8,\n        \"samples\": [\n          15.70502530831399,\n          14.0,\n          71518.0\n        ],\n        \"semantic_type\": \"\",\n        \"description\": \"\"\n      }\n    },\n    {\n      \"column\": \"number_outpatient\",\n      \"properties\": {\n        \"dtype\": \"number\",\n        \"std\": 25283.246160588384,\n        \"min\": 0.0,\n        \"max\": 71518.0,\n        \"num_unique_values\": 5,\n        \"samples\": [\n          0.2800693531698314,\n          42.0,\n          1.0689566542158886\n        ],\n        \"semantic_type\": \"\",\n        \"description\": \"\"\n      }\n    },\n    {\n      \"column\": \"number_emergency\",\n      \"properties\": {\n        \"dtype\": \"number\",\n        \"std\": 25283.28337215728,\n        \"min\": 0.0,\n        \"max\": 71518.0,\n        \"num_unique_values\": 5,\n        \"samples\": [\n          0.10354036745994015,\n          42.0,\n          0.5091865990150676\n        ],\n        \"semantic_type\": \"\",\n        \"description\": \"\"\n      }\n    },\n    {\n      \"column\": \"number_inpatient\",\n      \"properties\": {\n        \"dtype\": \"number\",\n        \"std\": 25284.786161190783,\n        \"min\": 0.0,\n        \"max\": 71518.0,\n        \"num_unique_values\": 5,\n        \"samples\": [\n          0.1778293576442294,\n          12.0,\n          0.6037895326224803\n        ],\n        \"semantic_type\": \"\",\n        \"description\": \"\"\n      }\n    },\n    {\n      \"column\": \"number_diagnoses\",\n      \"properties\": {\n        \"dtype\": \"number\",\n        \"std\": 25282.944792376864,\n        \"min\": 1.0,\n        \"max\": 71518.0,\n        \"num_unique_values\": 8,\n        \"samples\": [\n          7.245700383120333,\n          8.0,\n          71518.0\n        ],\n        \"semantic_type\": \"\",\n        \"description\": \"\"\n      }\n    },\n    {\n      \"column\": \"Treatment\",\n      \"properties\": {\n        \"dtype\": \"number\",\n        \"std\": 25285.349260332463,\n        \"min\": 0.0,\n        \"max\": 71518.0,\n        \"num_unique_values\": 5,\n        \"samples\": [\n          0.21516261640426187,\n          1.0,\n          0.4109379833143849\n        ],\n        \"semantic_type\": \"\",\n        \"description\": \"\"\n      }\n    },\n    {\n      \"column\": \"Insured\",\n      \"properties\": {\n        \"dtype\": \"number\",\n        \"std\": 25285.22625122065,\n        \"min\": 0.0,\n        \"max\": 71518.0,\n        \"num_unique_values\": 5,\n        \"samples\": [\n          0.5659414413154731,\n          1.0,\n          0.495636117720405\n        ],\n        \"semantic_type\": \"\",\n        \"description\": \"\"\n      }\n    },\n    {\n      \"column\": \"Readmission\",\n      \"properties\": {\n        \"dtype\": \"number\",\n        \"std\": 25285.285492953964,\n        \"min\": 0.0,\n        \"max\": 71518.0,\n        \"num_unique_values\": 5,\n        \"samples\": [\n          0.39896249895131297,\n          1.0,\n          0.48968844821067414\n        ],\n        \"semantic_type\": \"\",\n        \"description\": \"\"\n      }\n    }\n  ]\n}"
            }
          },
          "metadata": {},
          "execution_count": 2
        }
      ]
    },
    {
      "cell_type": "markdown",
      "source": [
        "\n",
        "\n",
        "---\n",
        "\n",
        "A. CAUSAL ANALYSIS #1. PROPENSITY SCORES TO PREDICT PERCENTILES OF PROBABILITY OF GETTING TREATMENT (HBA1C MEASUREMENT) OR NOT AND THEN COMPUTING THE DIFFERENT BETWEEN TREATMENT AND CONTROL IN EACH PERCENTILE.\n",
        "\n",
        "---\n",
        "\n"
      ],
      "metadata": {
        "id": "5yh7Y1feKui-"
      }
    },
    {
      "cell_type": "markdown",
      "source": [
        "Basic computation of the Readmission Rates (< 30) shows that Readmission Rate in Treatment Group was slightly higher than Control.\n",
        "\n"
      ],
      "metadata": {
        "id": "WU1If9yxCle8"
      }
    },
    {
      "cell_type": "code",
      "source": [
        "# Calculate readmission rates for each group\n",
        "treatment_readmission_rate = (df[df['Group'] == 'Treatment']['readmitted'] == '<30').mean()  # Treatment group\n",
        "control_readmission_rate = (df[df['Group'] == 'Control']['readmitted'] == '<30').mean()   # Control group\n",
        "\n",
        "\n",
        "# Calculate the difference in readmission rates\n",
        "readmission_rate_difference = treatment_readmission_rate - control_readmission_rate\n",
        "\n",
        "# Print the results\n",
        "print(\"Readmission Rate (Treatment):\", treatment_readmission_rate)\n",
        "print(\"Readmission Rate (Control):\", control_readmission_rate)\n",
        "print(\"Difference in Readmission Rates:\", readmission_rate_difference)"
      ],
      "metadata": {
        "colab": {
          "base_uri": "https://localhost:8080/"
        },
        "id": "QZerzniEGkwI",
        "outputId": "10e4a429-c72e-4047-cf86-1df00e0debeb"
      },
      "execution_count": 3,
      "outputs": [
        {
          "output_type": "stream",
          "name": "stdout",
          "text": [
            "Readmission Rate (Treatment): 0.10163763971926176\n",
            "Readmission Rate (Control): 0.0842508462497773\n",
            "Difference in Readmission Rates: 0.017386793469484463\n"
          ]
        }
      ]
    },
    {
      "cell_type": "markdown",
      "source": [
        "Basic computation of the Readmission Rates (>30) shows that Readmission Rate in Treatment Group was slightly higher again than Control.\n"
      ],
      "metadata": {
        "id": "vZN6ZtDzDNdG"
      }
    },
    {
      "cell_type": "code",
      "source": [
        "# Calculate readmission rates for each group\n",
        "treatment_readmission_rate = (df[df['Group'] == 'Treatment']['readmitted'] == '>30').mean()  # Treatment group\n",
        "control_readmission_rate = (df[df['Group'] == 'Control']['readmitted'] == '>30').mean()   # Control group\n",
        "\n",
        "\n",
        "# Calculate the difference in readmission rates\n",
        "readmission_rate_difference = treatment_readmission_rate - control_readmission_rate\n",
        "\n",
        "# Print the results\n",
        "print(\"Readmission Rate (Treatment):\", treatment_readmission_rate)\n",
        "print(\"Readmission Rate (Control):\", control_readmission_rate)\n",
        "print(\"Difference in Readmission Rates:\", readmission_rate_difference)"
      ],
      "metadata": {
        "colab": {
          "base_uri": "https://localhost:8080/"
        },
        "id": "SHtQVZvtCxLs",
        "outputId": "24e7eaad-56ad-4fb0-8b93-3673d4a71b18"
      },
      "execution_count": 4,
      "outputs": [
        {
          "output_type": "stream",
          "name": "stdout",
          "text": [
            "Readmission Rate (Treatment): 0.3721731219131791\n",
            "Readmission Rate (Control): 0.2941920541599857\n",
            "Difference in Readmission Rates: 0.07798106775319336\n"
          ]
        }
      ]
    },
    {
      "cell_type": "markdown",
      "source": [
        "Treatment vs. Control Readmission Rates for Readmission in each the 7 groups created by propensity scores\n"
      ],
      "metadata": {
        "id": "vyd0HyeyD7d9"
      }
    },
    {
      "cell_type": "code",
      "source": [
        "# Propensity Scores\n",
        "\n",
        "from sklearn.linear_model import LogisticRegression\n",
        "import statsmodels.api as sm\n",
        "\n",
        "# Covariates used in paper\n",
        "# X_covariates_in_paper = df[['discharge', 'race', 'admission', 'medical_specialty', 'time_in_hospital', 'age', 'diagnoses', 'HbA1c']]\n",
        "\n",
        "df['Insured_Treatment_int'] = df['Insured'] * df['Treatment']\n",
        "\n",
        "X_covariates_in_treat = df[['num_procedures', 'number_emergency','num_medications', 'Insured', 'Treatment', 'Insured_Treatment_int']]\n",
        "y = df['Readmission']\n",
        "\n",
        "# Add a constant term for the intercept\n",
        "X_covariates_in_treat = sm.add_constant(X_covariates_in_treat)\n",
        "\n",
        "y = df['Readmission']\n",
        "\n",
        "# Create and fit the statsmodels logistic regression model\n",
        "model = sm.Logit(y, X_covariates_in_treat)\n",
        "results = model.fit()\n",
        "\n",
        "# Print the summary, which includes p-values\n",
        "print(results.summary())\n",
        "\n",
        "# Get the Propensity Scores\n",
        "propensity_scores = results.predict(exog=X_covariates_in_treat)  # Use the fitted model to predict propensity scores\n",
        "\n",
        "# Add Propensity Scores to DataFrame\n",
        "df['propensity_score'] = propensity_scores"
      ],
      "metadata": {
        "colab": {
          "base_uri": "https://localhost:8080/"
        },
        "id": "CXWb96HcdeId",
        "outputId": "1629f82a-cc5a-45fc-b222-62cc473c3b2c"
      },
      "execution_count": 5,
      "outputs": [
        {
          "output_type": "stream",
          "name": "stdout",
          "text": [
            "Optimization terminated successfully.\n",
            "         Current function value: 0.663388\n",
            "         Iterations 5\n",
            "                           Logit Regression Results                           \n",
            "==============================================================================\n",
            "Dep. Variable:            Readmission   No. Observations:                71518\n",
            "Model:                          Logit   Df Residuals:                    71511\n",
            "Method:                           MLE   Df Model:                            6\n",
            "Date:                Fri, 18 Apr 2025   Pseudo R-squ.:                 0.01368\n",
            "Time:                        21:06:38   Log-Likelihood:                -47444.\n",
            "converged:                       True   LL-Null:                       -48102.\n",
            "Covariance Type:            nonrobust   LLR p-value:                3.547e-281\n",
            "=========================================================================================\n",
            "                            coef    std err          z      P>|z|      [0.025      0.975]\n",
            "-----------------------------------------------------------------------------------------\n",
            "const                    -0.5306      0.020    -27.058      0.000      -0.569      -0.492\n",
            "num_procedures           -0.0542      0.005    -11.135      0.000      -0.064      -0.045\n",
            "number_emergency          0.4052      0.019     20.817      0.000       0.367       0.443\n",
            "num_medications           0.0127      0.001     12.571      0.000       0.011       0.015\n",
            "Insured                  -0.2320      0.018    -13.154      0.000      -0.267      -0.197\n",
            "Treatment                 0.3111      0.028     10.950      0.000       0.255       0.367\n",
            "Insured_Treatment_int     0.1320      0.037      3.532      0.000       0.059       0.205\n",
            "=========================================================================================\n"
          ]
        }
      ]
    },
    {
      "cell_type": "code",
      "source": [
        "import pandas as pd\n",
        "\n",
        "# Create propensity score percentiles and assign groups\n",
        "df['propensity_group'] = pd.qcut(df['propensity_score'], 5, labels=False, duplicates='drop')\n",
        "\n",
        "# Calculate readmission rates for Treatment and Control within each propensity group\n",
        "readmission_rates_treatment = df[df['Group'] == 'Treatment'].groupby('propensity_group')['Readmission'].mean()\n",
        "readmission_rates_control = df[df['Group'] == 'Control'].groupby('propensity_group')['Readmission'].mean()\n",
        "\n",
        "# Calculate the difference in readmission rates within each propensity group\n",
        "readmission_rate_difference_by_group = readmission_rates_treatment - readmission_rates_control\n",
        "\n",
        "print(\"Readmission Rates (Treatment):\\n\", readmission_rates_treatment)\n",
        "print(\"\\nReadmission Rates (Control):\\n\", readmission_rates_control)\n",
        "print(\"\\nDifference in Readmission Rates:\\n\", readmission_rate_difference_by_group)\n",
        "\n",
        "for group in df['propensity_group'].unique():\n",
        "    print(f\"\\nPropensity Group: {group}\")\n",
        "    print(df[df['propensity_group'] == group]['Group'].value_counts())"
      ],
      "metadata": {
        "colab": {
          "base_uri": "https://localhost:8080/"
        },
        "id": "8cuZ9yQEi63L",
        "outputId": "228beafc-e871-4b71-bf7f-61bb7d0635fe"
      },
      "execution_count": 6,
      "outputs": [
        {
          "output_type": "stream",
          "name": "stdout",
          "text": [
            "Readmission Rates (Treatment):\n",
            " propensity_group\n",
            "1    0.526316\n",
            "2    0.441472\n",
            "3    0.436165\n",
            "4    0.488767\n",
            "Name: Readmission, dtype: float64\n",
            "\n",
            "Readmission Rates (Control):\n",
            " propensity_group\n",
            "0    0.312570\n",
            "1    0.371213\n",
            "2    0.382941\n",
            "3    0.425562\n",
            "4    0.532094\n",
            "Name: Readmission, dtype: float64\n",
            "\n",
            "Difference in Readmission Rates:\n",
            " propensity_group\n",
            "0         NaN\n",
            "1    0.155103\n",
            "2    0.058530\n",
            "3    0.010603\n",
            "4   -0.043326\n",
            "Name: Readmission, dtype: float64\n",
            "\n",
            "Propensity Group: 2\n",
            "Group\n",
            "Control      14198\n",
            "Treatment      299\n",
            "Name: count, dtype: int64\n",
            "\n",
            "Propensity Group: 4\n",
            "Group\n",
            "Treatment    10950\n",
            "Control       3334\n",
            "Name: count, dtype: int64\n",
            "\n",
            "Propensity Group: 3\n",
            "Group\n",
            "Control      9968\n",
            "Treatment    4120\n",
            "Name: count, dtype: int64\n",
            "\n",
            "Propensity Group: 1\n",
            "Group\n",
            "Control      14326\n",
            "Treatment       19\n",
            "Name: count, dtype: int64\n",
            "\n",
            "Propensity Group: 0\n",
            "Group\n",
            "Control    14304\n",
            "Name: count, dtype: int64\n"
          ]
        }
      ]
    },
    {
      "cell_type": "markdown",
      "source": [
        "In summary - propensity score stratification doesn't really work. There are groups with no one in the Treatment Group or too few. Should try a different method."
      ],
      "metadata": {
        "id": "PvGHjm3uldah"
      }
    },
    {
      "cell_type": "code",
      "source": [
        "import matplotlib.pyplot as plt\n",
        "plt.hist(df['propensity_score'], bins=30)\n",
        "plt.title('Distribution of Propensity Scores')\n",
        "plt.xlabel('Propensity Score')\n",
        "plt.ylabel('Frequency')\n",
        "plt.show()"
      ],
      "metadata": {
        "colab": {
          "base_uri": "https://localhost:8080/",
          "height": 472
        },
        "id": "GiG-aaO2jKVj",
        "outputId": "7e3f417e-e2ec-446a-edb3-ffb453b0b7e9"
      },
      "execution_count": 7,
      "outputs": [
        {
          "output_type": "display_data",
          "data": {
            "text/plain": [
              "<Figure size 640x480 with 1 Axes>"
            ],
            "image/png": "[encoded data removed]"
          },
          "metadata": {}
        }
      ]
    },
    {
      "cell_type": "markdown",
      "source": [
        "\n",
        "\n",
        "\n",
        "---\n",
        "\n",
        "B. CAUSAL ANALYSIS #2: USE OF INSTRUMENTAL VARIABLES (IV)\n",
        "\n",
        "---\n",
        "\n"
      ],
      "metadata": {
        "id": "5rHoR9S9KboB"
      }
    },
    {
      "cell_type": "markdown",
      "source": [
        "This is just a think-out-loud section. Do the following IV I am considering - [1] Payer_Code [2] Medical_Specialty of the doctor meet the following criteria for IV? Let's just take Insurance to begin with -\n",
        "\n",
        "1. Relevance? This criteria is met. It's true that changes in payer_code (Insurance) can be associated with HbA1C being ordered or not.\n",
        "\n",
        "2. Exogeneity? MUST be independent of effect on readmission EXCEPT via the order of the HbA1C. This is not met, I don't think. Insurance is for sure associated with whether or not a patient is readmitted.\n",
        "\n",
        "Different payers might have varying policies or incentives that affect readmission rates, quite independent of HbA1C testing. Medical_specialty: The admitting physician's specialty could be indicative of patient's health condition or the severity, which could influence readmission rates.\n",
        "\n",
        "Instrument Validity has two key issues that are important, IMO - relevance and exogeneity.\n",
        "\n",
        "Relevance: If variables influence the likelihood of measurement by a HbA1C test (Treatment), is there a strong correlation? If the relationship is weak, the instruments are considered \"weak\" and the analysis is unreliable.\n",
        "\n",
        "Exogeneity: This is the critical assumption that the instruments affect the outcome (Readmission) only through their effect on the treatment (HbA1C test) and not through any other pathways. This is a very difficult assumption to make - it's hard to make the argument that lack of insurance is a completely unimportant issue for Readmission.\n",
        "\n",
        "In essence, IV analysis is hard to evaluate, IMO. While payer_code might seem like a reason that affects Readmission, the validity needs to be  assessed before drawing causal conclusions.\n",
        "\n",
        "Doesn't seem like a good path to explore, IMO."
      ],
      "metadata": {
        "id": "gzmdzeMHQFky"
      }
    },
    {
      "cell_type": "markdown",
      "source": [
        "\n",
        "\n"
      ],
      "metadata": {
        "id": "OuROo83T44-u"
      }
    },
    {
      "cell_type": "code",
      "source": [
        "df['payer_code'].value_counts()"
      ],
      "metadata": {
        "colab": {
          "base_uri": "https://localhost:8080/",
          "height": 680
        },
        "id": "i67d53ccDJ8D",
        "outputId": "50a2277e-2772-4519-d014-e01e5cdd483f"
      },
      "execution_count": 8,
      "outputs": [
        {
          "output_type": "execute_result",
          "data": {
            "text/plain": [
              "payer_code\n",
              "?     31043\n",
              "MC    20414\n",
              "HM     4022\n",
              "BC     3432\n",
              "SP     3347\n",
              "MD     2197\n",
              "CP     1986\n",
              "UN     1879\n",
              "CM     1334\n",
              "OG      658\n",
              "PO      463\n",
              "DM      374\n",
              "WC      117\n",
              "CH      117\n",
              "OT       65\n",
              "SI       37\n",
              "MP       32\n",
              "FR        1\n",
              "Name: count, dtype: int64"
            ],
            "text/html": [
              "<div>\n",
              "<style scoped>\n",
              "    .dataframe tbody tr th:only-of-type {\n",
              "        vertical-align: middle;\n",
              "    }\n",
              "\n",
              "    .dataframe tbody tr th {\n",
              "        vertical-align: top;\n",
              "    }\n",
              "\n",
              "    .dataframe thead th {\n",
              "        text-align: right;\n",
              "    }\n",
              "</style>\n",
              "<table border=\"1\" class=\"dataframe\">\n",
              "  <thead>\n",
              "    <tr style=\"text-align: right;\">\n",
              "      <th></th>\n",
              "      <th>count</th>\n",
              "    </tr>\n",
              "    <tr>\n",
              "      <th>payer_code</th>\n",
              "      <th></th>\n",
              "    </tr>\n",
              "  </thead>\n",
              "  <tbody>\n",
              "    <tr>\n",
              "      <th>?</th>\n",
              "      <td>31043</td>\n",
              "    </tr>\n",
              "    <tr>\n",
              "      <th>MC</th>\n",
              "      <td>20414</td>\n",
              "    </tr>\n",
              "    <tr>\n",
              "      <th>HM</th>\n",
              "      <td>4022</td>\n",
              "    </tr>\n",
              "    <tr>\n",
              "      <th>BC</th>\n",
              "      <td>3432</td>\n",
              "    </tr>\n",
              "    <tr>\n",
              "      <th>SP</th>\n",
              "      <td>3347</td>\n",
              "    </tr>\n",
              "    <tr>\n",
              "      <th>MD</th>\n",
              "      <td>2197</td>\n",
              "    </tr>\n",
              "    <tr>\n",
              "      <th>CP</th>\n",
              "      <td>1986</td>\n",
              "    </tr>\n",
              "    <tr>\n",
              "      <th>UN</th>\n",
              "      <td>1879</td>\n",
              "    </tr>\n",
              "    <tr>\n",
              "      <th>CM</th>\n",
              "      <td>1334</td>\n",
              "    </tr>\n",
              "    <tr>\n",
              "      <th>OG</th>\n",
              "      <td>658</td>\n",
              "    </tr>\n",
              "    <tr>\n",
              "      <th>PO</th>\n",
              "      <td>463</td>\n",
              "    </tr>\n",
              "    <tr>\n",
              "      <th>DM</th>\n",
              "      <td>374</td>\n",
              "    </tr>\n",
              "    <tr>\n",
              "      <th>WC</th>\n",
              "      <td>117</td>\n",
              "    </tr>\n",
              "    <tr>\n",
              "      <th>CH</th>\n",
              "      <td>117</td>\n",
              "    </tr>\n",
              "    <tr>\n",
              "      <th>OT</th>\n",
              "      <td>65</td>\n",
              "    </tr>\n",
              "    <tr>\n",
              "      <th>SI</th>\n",
              "      <td>37</td>\n",
              "    </tr>\n",
              "    <tr>\n",
              "      <th>MP</th>\n",
              "      <td>32</td>\n",
              "    </tr>\n",
              "    <tr>\n",
              "      <th>FR</th>\n",
              "      <td>1</td>\n",
              "    </tr>\n",
              "  </tbody>\n",
              "</table>\n",
              "</div><br><label><b>dtype:</b> int64</label>"
            ]
          },
          "metadata": {},
          "execution_count": 8
        }
      ]
    },
    {
      "cell_type": "markdown",
      "source": [
        "\n",
        "\n",
        "---\n",
        "\n",
        "\n",
        "Let's assume that if there is a payer_code, the patient has insurance and there is no payer_code, there is NO insurance. Not sure that this is a correct assumption, but a fair one. If a patient HAS insurance, why wouldn't he/she use it?\n",
        "\n",
        "\n",
        "---"
      ],
      "metadata": {
        "id": "yuzL0eiuAB2C"
      }
    },
    {
      "cell_type": "code",
      "source": [
        "# Create a cross-tabulation with percentages\n",
        "insured_by_group = pd.crosstab(df['Group'], df['Insured'], normalize='index') * 100\n",
        "\n",
        "# Print the results\n",
        "print(insured_by_group)"
      ],
      "metadata": {
        "colab": {
          "base_uri": "https://localhost:8080/"
        },
        "id": "J3Wv7NbgBx8R",
        "outputId": "6e4809e9-e864-45c9-dbae-3cdbe17b6b78"
      },
      "execution_count": 9,
      "outputs": [
        {
          "output_type": "stream",
          "name": "stdout",
          "text": [
            "Insured            0          1\n",
            "Group                          \n",
            "Control    44.033494  55.966506\n",
            "Treatment  41.116454  58.883546\n"
          ]
        }
      ]
    },
    {
      "cell_type": "markdown",
      "source": [
        "\n",
        "\n",
        "---\n",
        "\n",
        "\n",
        "Note: Percent of Insured individuals in Control Group is 56% and Treatment Group is 59%. So a bit more in the Treatment Group compared to the Control. Is that - could that be - the reason why more people have the HbA1C ordered or measured?\n",
        "\n",
        "\n",
        "---\n",
        "\n"
      ],
      "metadata": {
        "id": "uIEK6P78IJys"
      }
    },
    {
      "cell_type": "code",
      "source": [
        "# Calculate the percentage of insured individuals in the control group\n",
        "control_insured_percent = (df[df['Group'] == 'Control']['Insured'] == 1).mean() * 100\n",
        "\n",
        "# Calculate the percentage of insured individuals in the treatment group\n",
        "treatment_insured_percent = (df[df['Group'] == 'Treatment']['Insured'] == 1).mean() * 100\n",
        "\n",
        "# Print the results\n",
        "print(f\"Percentage of Insured Individuals in Control Group: {control_insured_percent:.0f}\")\n",
        "print(f\"Percentage of Insured Individuals in Treatment Group: {treatment_insured_percent:.0f}\")"
      ],
      "metadata": {
        "colab": {
          "base_uri": "https://localhost:8080/"
        },
        "id": "bkB0XeZGCkIy",
        "outputId": "1666d6af-090f-4e23-926c-790c802abec8"
      },
      "execution_count": 10,
      "outputs": [
        {
          "output_type": "stream",
          "name": "stdout",
          "text": [
            "Percentage of Insured Individuals in Control Group: 56\n",
            "Percentage of Insured Individuals in Treatment Group: 59\n"
          ]
        }
      ]
    },
    {
      "cell_type": "code",
      "source": [
        "from scipy.stats import chi2_contingency\n",
        "\n",
        "# Create a contingency table\n",
        "contingency_table = [[(df[df['Group'] == 'Control']['Insured'] == 1).sum(), (df[df['Group'] == 'Control']['Insured'] == 0).sum()],\n",
        "                    [(df[df['Group'] == 'Treatment']['Insured'] == 1).sum(), (df[df['Group'] == 'Treatment']['Insured'] == 0).sum()]]\n",
        "\n",
        "# Perform the chi-squared test\n",
        "chi2, p, dof, expected = chi2_contingency(contingency_table)\n",
        "\n",
        "# Print the results\n",
        "print(f\"Chi-squared statistic: {chi2:.2f}\")\n",
        "print(\"P-value:\", p)\n",
        "print(\"Degrees of freedom:\", dof)\n",
        "# print(\"Expected frequencies:\", expected)"
      ],
      "metadata": {
        "colab": {
          "base_uri": "https://localhost:8080/"
        },
        "id": "dGc2ijG5GDQN",
        "outputId": "1ac0f98e-9d9e-403f-961e-70bc05ede8d7"
      },
      "execution_count": 11,
      "outputs": [
        {
          "output_type": "stream",
          "name": "stdout",
          "text": [
            "Chi-squared statistic: 41.72\n",
            "P-value: 1.0559205329617874e-10\n",
            "Degrees of freedom: 1\n"
          ]
        }
      ]
    },
    {
      "cell_type": "code",
      "source": [
        "insured_table = pd.crosstab(\n",
        "    index=[df['Group'], df['Readmission']],\n",
        "    columns=df['Insured'],\n",
        "    normalize='index'  # Calculate percentages row-wise\n",
        ") * 100\n",
        "insured_table = insured_table[1]  # Select only the column for insured = 1\n",
        "insured_table = insured_table.unstack()  # Reshape for better readability\n",
        "\n",
        "# Table for uninsured individuals (insured = 0)\n",
        "uninsured_table = pd.crosstab(\n",
        "    index=[df['Group'], df['Readmission']],\n",
        "    columns=df['Insured'],\n",
        "    normalize='index'\n",
        ") * 100\n",
        "uninsured_table = uninsured_table[0]  # Select only the column for insured = 0\n",
        "uninsured_table = uninsured_table.unstack()\n",
        "\n",
        "# Display the tables\n",
        "print(\"\\nReadmission Rates for Insured Individuals (insured = 1):\\n\", insured_table)\n",
        "print(\"\\nReadmission Rates for Uninsured Individuals (insured = 0):\\n\", uninsured_table)"
      ],
      "metadata": {
        "colab": {
          "base_uri": "https://localhost:8080/"
        },
        "id": "4-PKMz1MMDYU",
        "outputId": "9558d6d3-c6aa-4e7b-b50d-64a1482f0dc4"
      },
      "execution_count": 12,
      "outputs": [
        {
          "output_type": "stream",
          "name": "stdout",
          "text": [
            "\n",
            "Readmission Rates for Insured Individuals (insured = 1):\n",
            " Readmission          0          1\n",
            "Group                            \n",
            "Control      57.873767  52.834008\n",
            "Treatment    59.417068  58.291044\n",
            "\n",
            "Readmission Rates for Uninsured Individuals (insured = 0):\n",
            " Readmission          0          1\n",
            "Group                            \n",
            "Control      42.126233  47.165992\n",
            "Treatment    40.582932  41.708956\n"
          ]
        }
      ]
    },
    {
      "cell_type": "code",
      "source": [
        "# Create the cross-tabulation with row percentages\n",
        "cross_tab = pd.crosstab(df['insulin'], df['metformin'], normalize='index') * 100\n",
        "\n",
        "# Print the crosstab\n",
        "print(cross_tab)"
      ],
      "metadata": {
        "colab": {
          "base_uri": "https://localhost:8080/"
        },
        "id": "pgcg7WNjdsiB",
        "outputId": "b05052bc-39e2-4974-dd00-ac7b7537263b"
      },
      "execution_count": 13,
      "outputs": [
        {
          "output_type": "stream",
          "name": "stdout",
          "text": [
            "metformin      Down         No     Steady        Up\n",
            "insulin                                            \n",
            "Down       0.652898  82.958028  15.149900  1.239174\n",
            "No         0.526904  78.113456  20.394605  0.965035\n",
            "Steady     0.727552  78.774459  19.178454  1.319535\n",
            "Up         0.588827  80.295849  17.449375  1.665949\n"
          ]
        }
      ]
    },
    {
      "cell_type": "code",
      "source": [
        "# Create a multi-index cross-tabulation\n",
        "cross_tab = pd.crosstab([df['Group'], df['insulin']], df['metformin'], normalize='index') * 100\n",
        "\n",
        "# Print the cross-tabulation\n",
        "print(cross_tab)"
      ],
      "metadata": {
        "colab": {
          "base_uri": "https://localhost:8080/"
        },
        "id": "_KgwGOhae7gk",
        "outputId": "3a029bb1-5020-4c10-b2d1-6251faa52a70"
      },
      "execution_count": 14,
      "outputs": [
        {
          "output_type": "stream",
          "name": "stdout",
          "text": [
            "metformin              Down         No     Steady        Up\n",
            "Group     insulin                                          \n",
            "Control   Down     0.489182  84.440263  14.223895  0.846660\n",
            "          No       0.508299  78.845090  19.785615  0.860996\n",
            "          Steady   0.671454  79.634495  18.678111  1.015940\n",
            "          Up       0.587248  81.501678  16.757550  1.153523\n",
            "Treatment Down     1.050228  79.360731  17.397260  2.191781\n",
            "          No       0.616564  74.587569  23.329445  1.466422\n",
            "          Steady   0.919632  75.829668  20.891643  2.359056\n",
            "          Up       0.592255  77.676538  18.952164  2.779043\n"
          ]
        }
      ]
    },
    {
      "cell_type": "markdown",
      "source": [
        "\n",
        "\n",
        "---\n",
        "Summary: 31% are Readmitted after 30 days and only 8% within 30 days. Isn't the other group much more important to study? Why do we focus on the < 30 days group in the paper?\n",
        "\n",
        "\n",
        "---\n",
        "\n",
        "\n",
        "\n"
      ],
      "metadata": {
        "id": "AGW-WPk-_aUO"
      }
    },
    {
      "cell_type": "code",
      "source": [
        "# Calculate readmission category percentages\n",
        "readmission_percentages = df['readmitted'].value_counts(normalize=True) * 100\n",
        "\n",
        "# Print the percentages\n",
        "print(\"Readmission Category Percentages:\")\n",
        "print(readmission_percentages)"
      ],
      "metadata": {
        "colab": {
          "base_uri": "https://localhost:8080/"
        },
        "id": "Zu6DImdKMwI0",
        "outputId": "e3f9230c-7181-4010-c882-d2eec725d91e"
      },
      "execution_count": 15,
      "outputs": [
        {
          "output_type": "stream",
          "name": "stdout",
          "text": [
            "Readmission Category Percentages:\n",
            "readmitted\n",
            "NO     60.103750\n",
            ">30    31.097066\n",
            "<30     8.799183\n",
            "Name: proportion, dtype: float64\n"
          ]
        }
      ]
    },
    {
      "cell_type": "markdown",
      "source": [
        "\n",
        "\n",
        "---\n",
        "\n",
        "\n",
        "Summary: Evaluating Readmission Rates in all 3\n",
        "categories in Control vs. Treatment Group. The percent of Readmission = 1 is higher in the Treatment compared to the Control Group. Why?\n",
        "\n",
        "\n",
        "---\n",
        "\n"
      ],
      "metadata": {
        "id": "EibP7cFj8XJ0"
      }
    },
    {
      "cell_type": "markdown",
      "source": [
        "\n",
        "\n",
        "---\n",
        "\n",
        "\n",
        "Summary: Evaluating %Insured within Readmission Category (0, <30 = 1, >30 = 2). In the NOT READMITTED GROUP - there were more insured than not, i.e., the same pattern. In the READMITTED IN 30 DAYs GROUP - there were more insured than not. Same pattern for the last group as well.\n",
        "\n",
        "\n",
        "---\n",
        "\n"
      ],
      "metadata": {
        "id": "Jlfbpn786v8K"
      }
    },
    {
      "cell_type": "code",
      "source": [
        "# Create the cross-tabulation with percentages - row wise with Group as denominator\n",
        "cross_tab = pd.crosstab(df['Group'], df['Readmission'], normalize='index') * 100\n",
        "\n",
        "# Print the crosstab\n",
        "print(cross_tab)"
      ],
      "metadata": {
        "colab": {
          "base_uri": "https://localhost:8080/"
        },
        "id": "GXUPncxWFpIc",
        "outputId": "260d23e3-ecb8-4558-d756-63ef310fd628"
      },
      "execution_count": 16,
      "outputs": [
        {
          "output_type": "stream",
          "name": "stdout",
          "text": [
            "Readmission          0          1\n",
            "Group                            \n",
            "Control      62.155710  37.844290\n",
            "Treatment    52.618924  47.381076\n"
          ]
        }
      ]
    },
    {
      "cell_type": "code",
      "source": [
        "# Create the cross-tabulation with percentages computed row wise - i.e., using readmission as denominator\n",
        "cross_tab = pd.crosstab(df['Readmission'], df['Insured'], normalize='index') * 100\n",
        "\n",
        "# Print the crosstab\n",
        "print(cross_tab)"
      ],
      "metadata": {
        "colab": {
          "base_uri": "https://localhost:8080/"
        },
        "id": "qSchnhlHOzBP",
        "outputId": "5298aa1c-2710-4a3d-c445-3fe012d6de2f"
      },
      "execution_count": 17,
      "outputs": [
        {
          "output_type": "stream",
          "name": "stdout",
          "text": [
            "Insured              0          1\n",
            "Readmission                      \n",
            "0            41.835524  58.164476\n",
            "1            45.771563  54.228437\n"
          ]
        }
      ]
    },
    {
      "cell_type": "markdown",
      "source": [
        "\n",
        "\n",
        "---\n",
        "\n",
        "\n",
        "Summary: Hard to believe that % of readmitted in control group (HbA1C is not measured) is less than treatment group (HbA1C). One could make the argument that NOT measuring HbA1C is protective. But need to dive deeper. It could be that fewer are readmitted in Control because fewer are insured.\n",
        "\n",
        "\n",
        "---\n",
        "\n"
      ],
      "metadata": {
        "id": "R71ECZyr5tdd"
      }
    },
    {
      "cell_type": "code",
      "source": [
        "# Calculate the percentage of insured individuals in the control group\n",
        "control_readmit_percent = (df[df['Group'] == 'Control']['Readmission'] == 1).mean() * 100\n",
        "\n",
        "# Calculate the percentage of insured individuals in the treatment group\n",
        "treatment_readmit_percent = (df[df['Group'] == 'Treatment']['Readmission'] == 1).mean() * 100\n",
        "\n",
        "# Print the results\n",
        "print(f\"Percentage of Readmitted Individuals in Control Group: {control_readmit_percent:.2f}\")\n",
        "print(f\"Percentage of Readmitted Individuals in Treatment Group: {treatment_readmit_percent:.2f}\")"
      ],
      "metadata": {
        "colab": {
          "base_uri": "https://localhost:8080/"
        },
        "id": "nntfXjGbG_jJ",
        "outputId": "e37e2d4f-990d-4225-8dea-b623f9e25384"
      },
      "execution_count": 18,
      "outputs": [
        {
          "output_type": "stream",
          "name": "stdout",
          "text": [
            "Percentage of Readmitted Individuals in Control Group: 37.84\n",
            "Percentage of Readmitted Individuals in Treatment Group: 47.38\n"
          ]
        }
      ]
    },
    {
      "cell_type": "code",
      "source": [
        "# Create the cross-tabulation with percentages computed row wise - i.e., using readmission as denominator\n",
        "cross_tab = pd.crosstab(df['Readmission'], df['Group'], normalize='index') * 100\n",
        "\n",
        "# Print the crosstab\n",
        "print(cross_tab)"
      ],
      "metadata": {
        "colab": {
          "base_uri": "https://localhost:8080/"
        },
        "id": "Cd_vrLT4mgoR",
        "outputId": "79bd28ed-7f2e-4fe0-c77f-aa963b44b3e4"
      },
      "execution_count": 19,
      "outputs": [
        {
          "output_type": "stream",
          "name": "stdout",
          "text": [
            "Group          Control  Treatment\n",
            "Readmission                      \n",
            "0            81.163196  18.836804\n",
            "1            74.447131  25.552869\n"
          ]
        }
      ]
    },
    {
      "cell_type": "markdown",
      "source": [
        "\n",
        "\n",
        "---\n",
        "***\n",
        "------- IMPORTANT! TO USE ECONML - run the two installs (numpy and shap) and then restart session and install ECONML -------\n",
        "***\n",
        "\n",
        "---\n",
        "\n"
      ],
      "metadata": {
        "id": "uN_pMdPD0xyy"
      }
    },
    {
      "cell_type": "code",
      "source": [
        "# Suggested by Gemini when explaining how to fix the dependency errors - colab has to use an older version of numpy.\n",
        "\n",
        "# !pip install numpy==1.25.2 --no-cache-dir\n",
        "# !pip install shap==0.42.1 --no-cache-dir\n"
      ],
      "metadata": {
        "id": "Dl7JdGZP5va4"
      },
      "execution_count": 20,
      "outputs": []
    },
    {
      "cell_type": "code",
      "source": [
        "!pip install econml --no-cache-dir"
      ],
      "metadata": {
        "id": "VK5xQJpz0LY5"
      },
      "execution_count": null,
      "outputs": []
    },
    {
      "cell_type": "code",
      "source": [
        "!pip install scikit-learn==1.3.0 --no-cache-dir\n",
        "from econml.metalearners import SLearner"
      ],
      "metadata": {
        "id": "HNsqnIIjzt49"
      },
      "execution_count": null,
      "outputs": []
    },
    {
      "cell_type": "code",
      "source": [
        "# Slearner is working - after the above steps - specific numpy and then install econml\n",
        "\n",
        "from sklearn.ensemble import GradientBoostingRegressor\n",
        "\n",
        "df['Group_Num'] = df['Group'].map({'Treatment':1, 'Control': 0})\n",
        "\n",
        "XG = df['Group_Num'].values.ravel() # Change Xg to a 1d\n",
        "YG = df['Readmission'].values.ravel()  # Change YG to a 1d\n",
        "\n",
        "est = SLearner(overall_model=GradientBoostingRegressor())\n",
        "est.fit(YG, XG)\n",
        "\n",
        "SL_treatment_effects = est.effect(XG.reshape(-1, 1))\n",
        "\n",
        "print(SL_treatment_effects)"
      ],
      "metadata": {
        "colab": {
          "base_uri": "https://localhost:8080/"
        },
        "id": "3rY7Pmj1t82T",
        "outputId": "bab48a05-7752-4a91-b9b6-182d59df6340"
      },
      "execution_count": 26,
      "outputs": [
        {
          "output_type": "stream",
          "name": "stdout",
          "text": [
            "[0.09536533 0.09536533 0.09536533 ... 0.09536533 0.09536533 0.09536533]\n"
          ]
        }
      ]
    },
    {
      "cell_type": "markdown",
      "source": [
        "Treatment Effects are centered around +0.2 (as the histogram shows) which means the Treatment (which for the purpose of this analysis are the ones with the HbA1C measurement) are SLIGHTLY more likely to be Readmitted (both <30 and >30). THis directly contradicts the results of the paper BUT then again, let's see what we get when we use <30 only as the criteria for Readmission."
      ],
      "metadata": {
        "id": "frSk4--k5w00"
      }
    },
    {
      "cell_type": "code",
      "source": [
        "# !pip install matplotlib\n",
        "\n",
        "import matplotlib.pyplot as plt\n",
        "plt.hist(SL_treatment_effects, bins=30)\n",
        "plt.xlabel(\"SLearner Treatment Effects\")\n",
        "plt.ylabel(\"Frequency\")\n",
        "plt.title(\"Distribution of Treatment Effects\")\n",
        "plt.show()"
      ],
      "metadata": {
        "colab": {
          "base_uri": "https://localhost:8080/",
          "height": 472
        },
        "id": "8gG11QPXB5U_",
        "outputId": "3b19aec8-c68c-48cb-ab13-38c3f1766ccf"
      },
      "execution_count": 27,
      "outputs": [
        {
          "output_type": "display_data",
          "data": {
            "text/plain": [
              "<Figure size 640x480 with 1 Axes>"
            ],
            "image/png": "[encoded data removed]"
          },
          "metadata": {}
        }
      ]
    },
    {
      "cell_type": "code",
      "source": [
        "# Tlearner is working - after the above steps - specific numpy and then install econml\n",
        "\n",
        "from econml.metalearners import TLearner\n",
        "from sklearn.ensemble import GradientBoostingRegressor\n",
        "\n",
        "# Assuming X is a DataFrame containing your features:\n",
        "XG = df[['num_procedures', 'number_emergency','num_medications', 'Insured']]\n",
        "X = df['Group'].map({'Treatment': 1, 'Control': 0})\n",
        "est = TLearner(models=GradientBoostingRegressor())\n",
        "\n",
        "# Pass X to the fit method\n",
        "est.fit(YG, X, X=XG)\n",
        "\n",
        "TL_treatment_effects = est.effect(XG) # X should be used here, not XG\n",
        "\n",
        "print(TL_treatment_effects)"
      ],
      "metadata": {
        "id": "okh2d6r_yXZS",
        "colab": {
          "base_uri": "https://localhost:8080/"
        },
        "outputId": "8f700e1f-0f30-45d7-c80c-5ed57c6bb70f"
      },
      "execution_count": 34,
      "outputs": [
        {
          "output_type": "stream",
          "name": "stdout",
          "text": [
            "[0.09866314 0.11340787 0.11421036 ... 0.06350965 0.08712443 0.1055634 ]\n"
          ]
        }
      ]
    },
    {
      "cell_type": "code",
      "source": [
        "# !pip install matplotlib\n",
        "\n",
        "import matplotlib.pyplot as plt\n",
        "\n",
        "# Set figure size\n",
        "plt.figure(figsize=(6, 4))  # Adjust width and height values\n",
        "\n",
        "plt.hist(TL_treatment_effects, bins=30)\n",
        "plt.xlabel(\"TLearner Treatment Effects\")\n",
        "plt.ylabel(\"Frequency\")\n",
        "plt.title(\"Distribution of Treatment Effects\")\n",
        "plt.show()"
      ],
      "metadata": {
        "colab": {
          "base_uri": "https://localhost:8080/",
          "height": 410
        },
        "id": "HBTqm_mPvF3y",
        "outputId": "3625411c-a99e-4515-d110-488153f6f1d3"
      },
      "execution_count": 35,
      "outputs": [
        {
          "output_type": "display_data",
          "data": {
            "text/plain": [
              "<Figure size 600x400 with 1 Axes>"
            ],
            "image/png": "[encoded data removed]"
          },
          "metadata": {}
        }
      ]
    },
    {
      "cell_type": "code",
      "source": [
        "!pip install seaborn"
      ],
      "metadata": {
        "id": "-yPnavZuCUrG"
      },
      "execution_count": null,
      "outputs": []
    },
    {
      "cell_type": "code",
      "source": [
        "import seaborn as sns\n",
        "sns.boxplot(x=TL_treatment_effects)\n",
        "plt.xlabel(\"TL Treatment Effects\")\n",
        "plt.title(\"Box Plot of T Learner Treatment Effects\")\n",
        "plt.show()"
      ],
      "metadata": {
        "colab": {
          "base_uri": "https://localhost:8080/",
          "height": 472
        },
        "id": "REEJNJxvCRGu",
        "outputId": "ed49a39c-cd79-4626-ee29-03568180b7dd"
      },
      "execution_count": 37,
      "outputs": [
        {
          "output_type": "display_data",
          "data": {
            "text/plain": [
              "<Figure size 640x480 with 1 Axes>"
            ],
            "image/png": "[encoded data removed]"
          },
          "metadata": {}
        }
      ]
    },
    {
      "cell_type": "code",
      "source": [
        "from econml.metalearners import XLearner\n",
        "from sklearn.ensemble import GradientBoostingClassifier, GradientBoostingRegressor\n",
        "\n",
        "df['Group_Numeric'] = df['Group'].map({'Treatment':1, 'Control': 0})\n",
        "\n",
        "GN = df['Group_Numeric']\n",
        "\n",
        "est = XLearner(models=GradientBoostingRegressor(),\n",
        "              propensity_model=GradientBoostingClassifier(),\n",
        "              cate_models=GradientBoostingRegressor())\n",
        "\n",
        "est.fit(YG, GN, X=XG)\n",
        "XL_treatment_effects = est.effect(XG)\n",
        "\n",
        "print(XL_treatment_effects)"
      ],
      "metadata": {
        "id": "ZMUYuoU6y_ZG",
        "colab": {
          "base_uri": "https://localhost:8080/"
        },
        "outputId": "5dbe0246-0a7e-458b-eff7-090f1a6d3b2d"
      },
      "execution_count": 40,
      "outputs": [
        {
          "output_type": "stream",
          "name": "stdout",
          "text": [
            "[0.08408518 0.10883429 0.12034932 ... 0.0736418  0.07511118 0.12082691]\n"
          ]
        }
      ]
    },
    {
      "cell_type": "code",
      "source": [
        "# !pip install matplotlib\n",
        "\n",
        "import matplotlib.pyplot as plt\n",
        "\n",
        "plt.hist(XL_treatment_effects, bins=30)\n",
        "plt.xlabel(\"XLearner Treatment Effects\")\n",
        "plt.ylabel(\"Frequency\")\n",
        "plt.title(\"Distribution of Treatment Effects\")\n",
        "plt.show()"
      ],
      "metadata": {
        "colab": {
          "base_uri": "https://localhost:8080/",
          "height": 472
        },
        "id": "hrFZ7OFjvPSY",
        "outputId": "dc20463e-7528-4ebe-9724-d4f44cc74f68"
      },
      "execution_count": 41,
      "outputs": [
        {
          "output_type": "display_data",
          "data": {
            "text/plain": [
              "<Figure size 640x480 with 1 Axes>"
            ],
            "image/png": "[encoded data removed]"
          },
          "metadata": {}
        }
      ]
    },
    {
      "cell_type": "code",
      "source": [
        "import seaborn as sns\n",
        "sns.boxplot(x=XL_treatment_effects)\n",
        "plt.xlabel(\"X Learner Treatment Effects\")\n",
        "plt.title(\"Box Plot of X Treatment Effects\")\n",
        "plt.show()"
      ],
      "metadata": {
        "colab": {
          "base_uri": "https://localhost:8080/",
          "height": 472
        },
        "id": "LNI33kvBCgDe",
        "outputId": "0a0ce55b-7b4d-492a-df25-a52b0d060b11"
      },
      "execution_count": 42,
      "outputs": [
        {
          "output_type": "display_data",
          "data": {
            "text/plain": [
              "<Figure size 640x480 with 1 Axes>"
            ],
            "image/png": "[encoded data removed]"
          },
          "metadata": {}
        }
      ]
    },
    {
      "cell_type": "code",
      "source": [
        "import numpy as np\n",
        "import seaborn as sns\n",
        "import matplotlib.pyplot as plt\n",
        "\n",
        "# Create a DataFrame for plotting\n",
        "import pandas as pd\n",
        "data = pd.DataFrame({\n",
        "    'Learner': ['SLearner'] * len(SL_treatment_effects) +\n",
        "               ['TLearner'] * len(TL_treatment_effects) +\n",
        "               ['XLearner'] * len(XL_treatment_effects),\n",
        "    'Treatment Effect': np.concatenate([SL_treatment_effects, TL_treatment_effects, XL_treatment_effects])\n",
        "})\n",
        "\n",
        "# Create the violin plot\n",
        "sns.violinplot(x='Learner', y='Treatment Effect', data=data)\n",
        "plt.title('Distribution of Treatment Effects by Learner')\n",
        "plt.show()"
      ],
      "metadata": {
        "colab": {
          "base_uri": "https://localhost:8080/",
          "height": 472
        },
        "id": "OayukKENF_Lo",
        "outputId": "1b888c27-5df3-4f5f-a0a8-e95cdd6b7124"
      },
      "execution_count": 43,
      "outputs": [
        {
          "output_type": "display_data",
          "data": {
            "text/plain": [
              "<Figure size 640x480 with 1 Axes>"
            ],
            "image/png": "[encoded data removed]"
          },
          "metadata": {}
        }
      ]
    },
    {
      "cell_type": "code",
      "source": [
        "import numpy as np\n",
        "import matplotlib.pyplot as plt\n",
        "\n",
        "# Calculate ECDFs\n",
        "def ecdf(data):\n",
        "    x = np.sort(data)\n",
        "    y = np.arange(1, len(x) + 1) / len(x)\n",
        "    return x, y\n",
        "\n",
        "x_SL, y_SL = ecdf(SL_treatment_effects)\n",
        "x_TL, y_TL = ecdf(TL_treatment_effects)\n",
        "x_XL, y_XL = ecdf(XL_treatment_effects)\n",
        "\n",
        "# Plot ECDFs\n",
        "plt.plot(x_SL, y_SL, marker='.', linestyle='-', label='SLearner')\n",
        "plt.plot(x_TL, y_TL, marker='.', linestyle='-', label='TLearner')\n",
        "plt.plot(x_XL, y_XL, marker='.', linestyle='-', label='XLearner')\n",
        "\n",
        "# Customize plot\n",
        "plt.xlabel(\"Treatment Effects\")\n",
        "plt.ylabel(\"Cumulative Proportion\")\n",
        "plt.title(\"Empirical Cumulative Distribution of Treatment Effects\")\n",
        "plt.legend(loc='best')\n",
        "plt.grid(True)\n",
        "\n",
        "plt.show()"
      ],
      "metadata": {
        "colab": {
          "base_uri": "https://localhost:8080/",
          "height": 472
        },
        "id": "YmYf_kY7EKy4",
        "outputId": "0a0dbbf7-0a34-4817-bd79-98b3b47745ac"
      },
      "execution_count": 44,
      "outputs": [
        {
          "output_type": "display_data",
          "data": {
            "text/plain": [
              "<Figure size 640x480 with 1 Axes>"
            ],
            "image/png": "[encoded data removed]"
          },
          "metadata": {}
        }
      ]
    },
    {
      "cell_type": "markdown",
      "source": [],
      "metadata": {
        "id": "ac2HYZ-4EKiI"
      }
    },
    {
      "cell_type": "code",
      "source": [
        "# Find indices of highest and lowest treatment effects for each learner\n",
        "highest_SL_index = np.argmax(SL_treatment_effects)\n",
        "lowest_SL_index = np.argmin(SL_treatment_effects)\n",
        "\n",
        "highest_TL_index = np.argmax(TL_treatment_effects)\n",
        "lowest_TL_index = np.argmin(TL_treatment_effects)\n",
        "\n",
        "highest_XL_index = np.argmax(XL_treatment_effects)\n",
        "lowest_XL_index = np.argmin(XL_treatment_effects)\n",
        "\n",
        "\n",
        "# Print results\n",
        "print(\"S Learner:\")\n",
        "print(\"Highest treatment effect:\", SL_treatment_effects[highest_SL_index], \"at index\", highest_SL_index)\n",
        "print(\"Lowest treatment effect:\", SL_treatment_effects[lowest_SL_index], \"at index\", lowest_SL_index)\n",
        "\n",
        "print(\"\\nT Learner:\")\n",
        "print(\"Highest treatment effect:\", TL_treatment_effects[highest_TL_index], \"at index\", highest_TL_index)\n",
        "print(\"Lowest treatment effect:\", TL_treatment_effects[lowest_TL_index], \"at index\", lowest_TL_index)\n",
        "\n",
        "\n",
        "print(\"\\nX Learner:\")\n",
        "print(\"Highest treatment effect:\", XL_treatment_effects[highest_XL_index], \"at index\", highest_XL_index)\n",
        "print(\"Lowest treatment effect:\", XL_treatment_effects[lowest_XL_index], \"at index\", lowest_XL_index)\n"
      ],
      "metadata": {
        "colab": {
          "base_uri": "https://localhost:8080/"
        },
        "id": "tyRCtqfCd1U2",
        "outputId": "d87ef8cb-f9ed-4b13-eba2-240faddfadb3"
      },
      "execution_count": 45,
      "outputs": [
        {
          "output_type": "stream",
          "name": "stdout",
          "text": [
            "S Learner:\n",
            "Highest treatment effect: 0.09536532811887277 at index 0\n",
            "Lowest treatment effect: 0.09536532811887277 at index 0\n",
            "\n",
            "T Learner:\n",
            "Highest treatment effect: 0.8954735732211623 at index 42446\n",
            "Lowest treatment effect: -0.6525776549201525 at index 18979\n",
            "\n",
            "X Learner:\n",
            "Highest treatment effect: 0.4981970642054977 at index 48031\n",
            "Lowest treatment effect: -0.18761517466769562 at index 18979\n"
          ]
        }
      ]
    },
    {
      "cell_type": "markdown",
      "source": [
        "\n",
        "\n",
        "---\n",
        "So insurance is an interaction effect - i.e., it moderates the effect of Treatment on Outcome. In other words it changes the way Treatment (i.e., measurement of HbA1c) affects readmission rates. If a person is Insured - then Treatment increases the probability of Readmission. If a person is not Insured - then Treatment decreases the probability. In case of the Insured - Treatment might look like a 'Risk' for Readmission (which we know it isn't). In case of the Uninsured - Treatment looks like it's 'Protective' for Readmission (which we again know it isn't). What is really driving it is cost considerations as in the US, risk of medical bankruptcy (declaring bankruptcy due to medical bills) is very high.\n",
        "\n",
        "Using the backdoor criterion is a concept from causal inference that helps identify whether a control variable blocks all backdoor paths from a treatment (measurement of HbA1c) to an outcome (readmission). In other words, given our example and diabetes data it would be saying that once we condition on Insurance, there is no relationship between Treatment and Outcome.\n",
        "\n",
        "It is hard to imagine that would be the truth. I would like to think that readmitting a patient is not purely a matter of whether or not the patient has insurance. Could it be that presence or the absence of Insurance is the reason why people get readmitted? Most definitely not optimal. It is a factor no question. It's possible that insurance influences the decision to readmit (especially if one is paying out of pocket) but it could not be the only factor in determining readmission.\n",
        "\n",
        "So where does that leave us in the analysis? The point is crucial for estimating a causal effect of insurance on readmission if it exists. While we are adjusting for Insurance in a regression model, there are distinctions when examining the problem using a causal lens (and applying the causal inference backdoor criterion effectively).\n",
        "\n",
        "The backdoor criterion, developed by Pearl and others in the field of causal inference, is a method for selecting an \"appropriate\" set of variables to control for in order to estimate the causal effect of a treatment \\( X \\) on an outcome \\( Y \\). I put quotes around the word appropriate because this is subjective. Strictly - definition-wise: the criterion specifies that a set of variables \\( Z \\) blocks every backdoor path from \\( X \\) to \\( Y \\) if:\n",
        "1. \\( Z \\) intercepts all paths between \\( X \\) and \\( Y \\) that contain an arrow into \\( X \\) (i.e., paths that could represent potential confounders). Does Insurance blocks all paths between HbA1c and Readmission. No, not satisfied.\n",
        "2. \\( Z \\) does not include any descendants of \\( X \\) (to avoid collider bias). Not sure what the descendants of Insurance could be.\n",
        "3. \\( Z \\) itself does not contain any colliders on the path between \\( X \\) and \\( Y \\). Not sure.\n",
        "\n",
        "In other words, Insurance (to my knowledge and/or understanding) can't be a confounder. In a sense, can see it affecting the measurement or a test and/or affecting readmission. Money speaks, as we all know. But could it be the only factor? On one hand Insurance DOES affect both Treatment and the chance of Readmission - this is not out of the realm of possibility but on the other hand - it does not strictly meet all confounder criteria.\n",
        "\n",
        "So what next? Will do the following -\n",
        "- Constructing a DAG: A directed acyclic graph that hypothesizes the causal relationships among the variables will help in visually identifying and assessing potential backdoor paths.\n",
        "- Applying the Criterion: Use the DAG to apply the backdoor criterion and determine which variables should be controlled for to estimate the causal effect of \\( X \\) on \\( Y \\).\n",
        "- Once the appropriate covariates \\( Z \\) are identified, will use statistical methods such as regression, matching, stratification to control for these variables and estimate the causal effect. Here, regression would involve including the selected \\( Z \\) variables as controls.\n",
        "\n",
        "Conclusion\n",
        "While controlling for variables in a regression model (whether using traditional methods or the backdoor criterion) the choice and justification of these variables based on causal diagrams make a significant difference.\n",
        "\n",
        "This theory-driven approach is crucial for making causal inferences in observational data, moving beyond associations toward really understanding causality, i.e., the key question of why.\n",
        "\n",
        "---"
      ],
      "metadata": {
        "id": "i-99vWd0RJRg"
      }
    }
  ],
  "metadata": {
    "colab": {
      "provenance": [],
      "include_colab_link": true
    },
    "kernelspec": {
      "display_name": "Python 3",
      "name": "python3"
    },
    "language_info": {
      "name": "python"
    }
  },
  "nbformat": 4,
  "nbformat_minor": 0
}