{
  "nbformat": 4,
  "nbformat_minor": 0,
  "metadata": {
    "colab": {
      "provenance": [],
      "authorship_tag": "ABX9TyOA5pCEkPvar4Rs73ulZtG3",
      "include_colab_link": true
    },
    "kernelspec": {
      "name": "python3",
      "display_name": "Python 3"
    },
    "language_info": {
      "name": "python"
    }
  },
  "cells": [
    {
      "cell_type": "markdown",
      "metadata": {
        "id": "view-in-github",
        "colab_type": "text"
      },
      "source": [
        "<a href=\"https://colab.research.google.com/github/HermitCrab07/Impact_of_HbA1c_on_Readmission_Rates/blob/main/_5_DoWhy_Diabetes130US_Hospitals_1999_2008_3_CAUSAL.ipynb\" target=\"_parent\"><img src=\"https://colab.research.google.com/assets/colab-badge.svg\" alt=\"Open In Colab\"/></a>"
      ]
    },
    {
      "cell_type": "markdown",
      "source": [
        "\n",
        "---\n",
        "\n",
        "Moving on with our causal analysis to figure out if the measurement of HbA1c ('Treatment') reduces the risk of readmission?\n",
        "\n",
        "Without question - there can be many reasons why a person is readmitted to the hospital. These range from continuation of the same issue that is currently under treatment to injuries or illness that occur after discharge that have nothing to do with the current hospitalization.\n",
        "\n",
        "However many other issues there may be, for this example, we are going to examine the readmission rates using the diabetes dataset and variables available to us.\n",
        "\n",
        "---\n"
      ],
      "metadata": {
        "id": "HR5fpVfcT1ex"
      }
    },
    {
      "cell_type": "code",
      "source": [
        "# Beata Strack, Jonathan P. DeShazo, Chris Gennings, Juan L. Olmo, Sebastian Ventura, Krzysztof J. Cios, and John N. Clore\n",
        "# Impact of HbA1c Measurement on Hospital Readmission Rates: Analysis of 70,000 Clinical Database Patient Records\n",
        "# BioMed Research International, vol. 2014, Article ID 781670, 11 pages, 2014.\n",
        "# Dataset was downloaded from UCI Machine Learning Repository.\n",
        "\n",
        "from google.colab import drive\n",
        "drive.mount('/content/drive')"
      ],
      "metadata": {
        "colab": {
          "base_uri": "https://localhost:8080/"
        },
        "id": "RQhOS1PV3i7V",
        "outputId": "af742a03-2790-44c9-fdfb-07e29abd5e29"
      },
      "execution_count": 3,
      "outputs": [
        {
          "output_type": "stream",
          "name": "stdout",
          "text": [
            "Mounted at /content/drive\n"
          ]
        }
      ]
    },
    {
      "cell_type": "code",
      "source": [
        "import pandas as pd\n",
        "\n",
        "df = pd.read_csv('/content/drive/My Drive/Analysis_Diabetes_Dataset_CausalInference/reanalysis_diabetes_dataset.csv')\n",
        "df.describe()"
      ],
      "metadata": {
        "colab": {
          "base_uri": "https://localhost:8080/",
          "height": 320
        },
        "id": "VNHQl86P3vHr",
        "outputId": "854371cf-6a6a-4e60-b1b4-7aa4f1d9c0a0"
      },
      "execution_count": 4,
      "outputs": [
        {
          "output_type": "execute_result",
          "data": {
            "text/plain": [
              "       encounter_id   patient_nbr  admission_type_id  \\\n",
              "count  7.151800e+04  7.151800e+04       71518.000000   \n",
              "mean   1.568156e+08  5.505160e+07           2.100254   \n",
              "std    1.003769e+08  3.947573e+07           1.508301   \n",
              "min    1.252200e+04  1.350000e+02           1.000000   \n",
              "25%    8.145807e+07  2.337577e+07           1.000000   \n",
              "50%    1.440574e+08  4.816680e+07           1.000000   \n",
              "75%    2.155513e+08  8.752222e+07           3.000000   \n",
              "max    4.438672e+08  1.895026e+08           8.000000   \n",
              "\n",
              "       discharge_disposition_id  admission_source_id  time_in_hospital  \\\n",
              "count              71518.000000         71518.000000       71518.00000   \n",
              "mean                   3.593235             5.657457           4.28913   \n",
              "std                    5.269771             4.162580           2.94921   \n",
              "min                    1.000000             1.000000           1.00000   \n",
              "25%                    1.000000             1.000000           2.00000   \n",
              "50%                    1.000000             7.000000           3.00000   \n",
              "75%                    3.000000             7.000000           6.00000   \n",
              "max                   28.000000            25.000000          14.00000   \n",
              "\n",
              "       num_lab_procedures  num_procedures  num_medications  number_outpatient  \\\n",
              "count        71518.000000    71518.000000     71518.000000       71518.000000   \n",
              "mean            43.075478        1.430577        15.705025           0.280069   \n",
              "std             19.952338        1.759864         8.311163           1.068957   \n",
              "min              1.000000        0.000000         1.000000           0.000000   \n",
              "25%             31.000000        0.000000        10.000000           0.000000   \n",
              "50%             44.000000        1.000000        14.000000           0.000000   \n",
              "75%             57.000000        2.000000        20.000000           0.000000   \n",
              "max            132.000000        6.000000        81.000000          42.000000   \n",
              "\n",
              "       number_emergency  number_inpatient  number_diagnoses     Treatment  \\\n",
              "count      71518.000000      71518.000000      71518.000000  71518.000000   \n",
              "mean           0.103540          0.177829          7.245700      0.215163   \n",
              "std            0.509187          0.603790          1.994674      0.410938   \n",
              "min            0.000000          0.000000          1.000000      0.000000   \n",
              "25%            0.000000          0.000000          6.000000      0.000000   \n",
              "50%            0.000000          0.000000          8.000000      0.000000   \n",
              "75%            0.000000          0.000000          9.000000      0.000000   \n",
              "max           42.000000         12.000000         16.000000      1.000000   \n",
              "\n",
              "            Insured   Readmission  \n",
              "count  71518.000000  71518.000000  \n",
              "mean       0.565941      0.398962  \n",
              "std        0.495636      0.489688  \n",
              "min        0.000000      0.000000  \n",
              "25%        0.000000      0.000000  \n",
              "50%        1.000000      0.000000  \n",
              "75%        1.000000      1.000000  \n",
              "max        1.000000      1.000000  "
            ],
            "text/html": [
              "\n",
              "  <div id=\"df-a0427e3e-b20f-4978-b007-e9087cf664ce\" class=\"colab-df-container\">\n",
              "    <div>\n",
              "<style scoped>\n",
              "    .dataframe tbody tr th:only-of-type {\n",
              "        vertical-align: middle;\n",
              "    }\n",
              "\n",
              "    .dataframe tbody tr th {\n",
              "        vertical-align: top;\n",
              "    }\n",
              "\n",
              "    .dataframe thead th {\n",
              "        text-align: right;\n",
              "    }\n",
              "</style>\n",
              "<table border=\"1\" class=\"dataframe\">\n",
              "  <thead>\n",
              "    <tr style=\"text-align: right;\">\n",
              "      <th></th>\n",
              "      <th>encounter_id</th>\n",
              "      <th>patient_nbr</th>\n",
              "      <th>admission_type_id</th>\n",
              "      <th>discharge_disposition_id</th>\n",
              "      <th>admission_source_id</th>\n",
              "      <th>time_in_hospital</th>\n",
              "      <th>num_lab_procedures</th>\n",
              "      <th>num_procedures</th>\n",
              "      <th>num_medications</th>\n",
              "      <th>number_outpatient</th>\n",
              "      <th>number_emergency</th>\n",
              "      <th>number_inpatient</th>\n",
              "      <th>number_diagnoses</th>\n",
              "      <th>Treatment</th>\n",
              "      <th>Insured</th>\n",
              "      <th>Readmission</th>\n",
              "    </tr>\n",
              "  </thead>\n",
              "  <tbody>\n",
              "    <tr>\n",
              "      <th>count</th>\n",
              "      <td>7.151800e+04</td>\n",
              "      <td>7.151800e+04</td>\n",
              "      <td>71518.000000</td>\n",
              "      <td>71518.000000</td>\n",
              "      <td>71518.000000</td>\n",
              "      <td>71518.00000</td>\n",
              "      <td>71518.000000</td>\n",
              "      <td>71518.000000</td>\n",
              "      <td>71518.000000</td>\n",
              "      <td>71518.000000</td>\n",
              "      <td>71518.000000</td>\n",
              "      <td>71518.000000</td>\n",
              "      <td>71518.000000</td>\n",
              "      <td>71518.000000</td>\n",
              "      <td>71518.000000</td>\n",
              "      <td>71518.000000</td>\n",
              "    </tr>\n",
              "    <tr>\n",
              "      <th>mean</th>\n",
              "      <td>1.568156e+08</td>\n",
              "      <td>5.505160e+07</td>\n",
              "      <td>2.100254</td>\n",
              "      <td>3.593235</td>\n",
              "      <td>5.657457</td>\n",
              "      <td>4.28913</td>\n",
              "      <td>43.075478</td>\n",
              "      <td>1.430577</td>\n",
              "      <td>15.705025</td>\n",
              "      <td>0.280069</td>\n",
              "      <td>0.103540</td>\n",
              "      <td>0.177829</td>\n",
              "      <td>7.245700</td>\n",
              "      <td>0.215163</td>\n",
              "      <td>0.565941</td>\n",
              "      <td>0.398962</td>\n",
              "    </tr>\n",
              "    <tr>\n",
              "      <th>std</th>\n",
              "      <td>1.003769e+08</td>\n",
              "      <td>3.947573e+07</td>\n",
              "      <td>1.508301</td>\n",
              "      <td>5.269771</td>\n",
              "      <td>4.162580</td>\n",
              "      <td>2.94921</td>\n",
              "      <td>19.952338</td>\n",
              "      <td>1.759864</td>\n",
              "      <td>8.311163</td>\n",
              "      <td>1.068957</td>\n",
              "      <td>0.509187</td>\n",
              "      <td>0.603790</td>\n",
              "      <td>1.994674</td>\n",
              "      <td>0.410938</td>\n",
              "      <td>0.495636</td>\n",
              "      <td>0.489688</td>\n",
              "    </tr>\n",
              "    <tr>\n",
              "      <th>min</th>\n",
              "      <td>1.252200e+04</td>\n",
              "      <td>1.350000e+02</td>\n",
              "      <td>1.000000</td>\n",
              "      <td>1.000000</td>\n",
              "      <td>1.000000</td>\n",
              "      <td>1.00000</td>\n",
              "      <td>1.000000</td>\n",
              "      <td>0.000000</td>\n",
              "      <td>1.000000</td>\n",
              "      <td>0.000000</td>\n",
              "      <td>0.000000</td>\n",
              "      <td>0.000000</td>\n",
              "      <td>1.000000</td>\n",
              "      <td>0.000000</td>\n",
              "      <td>0.000000</td>\n",
              "      <td>0.000000</td>\n",
              "    </tr>\n",
              "    <tr>\n",
              "      <th>25%</th>\n",
              "      <td>8.145807e+07</td>\n",
              "      <td>2.337577e+07</td>\n",
              "      <td>1.000000</td>\n",
              "      <td>1.000000</td>\n",
              "      <td>1.000000</td>\n",
              "      <td>2.00000</td>\n",
              "      <td>31.000000</td>\n",
              "      <td>0.000000</td>\n",
              "      <td>10.000000</td>\n",
              "      <td>0.000000</td>\n",
              "      <td>0.000000</td>\n",
              "      <td>0.000000</td>\n",
              "      <td>6.000000</td>\n",
              "      <td>0.000000</td>\n",
              "      <td>0.000000</td>\n",
              "      <td>0.000000</td>\n",
              "    </tr>\n",
              "    <tr>\n",
              "      <th>50%</th>\n",
              "      <td>1.440574e+08</td>\n",
              "      <td>4.816680e+07</td>\n",
              "      <td>1.000000</td>\n",
              "      <td>1.000000</td>\n",
              "      <td>7.000000</td>\n",
              "      <td>3.00000</td>\n",
              "      <td>44.000000</td>\n",
              "      <td>1.000000</td>\n",
              "      <td>14.000000</td>\n",
              "      <td>0.000000</td>\n",
              "      <td>0.000000</td>\n",
              "      <td>0.000000</td>\n",
              "      <td>8.000000</td>\n",
              "      <td>0.000000</td>\n",
              "      <td>1.000000</td>\n",
              "      <td>0.000000</td>\n",
              "    </tr>\n",
              "    <tr>\n",
              "      <th>75%</th>\n",
              "      <td>2.155513e+08</td>\n",
              "      <td>8.752222e+07</td>\n",
              "      <td>3.000000</td>\n",
              "      <td>3.000000</td>\n",
              "      <td>7.000000</td>\n",
              "      <td>6.00000</td>\n",
              "      <td>57.000000</td>\n",
              "      <td>2.000000</td>\n",
              "      <td>20.000000</td>\n",
              "      <td>0.000000</td>\n",
              "      <td>0.000000</td>\n",
              "      <td>0.000000</td>\n",
              "      <td>9.000000</td>\n",
              "      <td>0.000000</td>\n",
              "      <td>1.000000</td>\n",
              "      <td>1.000000</td>\n",
              "    </tr>\n",
              "    <tr>\n",
              "      <th>max</th>\n",
              "      <td>4.438672e+08</td>\n",
              "      <td>1.895026e+08</td>\n",
              "      <td>8.000000</td>\n",
              "      <td>28.000000</td>\n",
              "      <td>25.000000</td>\n",
              "      <td>14.00000</td>\n",
              "      <td>132.000000</td>\n",
              "      <td>6.000000</td>\n",
              "      <td>81.000000</td>\n",
              "      <td>42.000000</td>\n",
              "      <td>42.000000</td>\n",
              "      <td>12.000000</td>\n",
              "      <td>16.000000</td>\n",
              "      <td>1.000000</td>\n",
              "      <td>1.000000</td>\n",
              "      <td>1.000000</td>\n",
              "    </tr>\n",
              "  </tbody>\n",
              "</table>\n",
              "</div>\n",
              "    <div class=\"colab-df-buttons\">\n",
              "\n",
              "  <div class=\"colab-df-container\">\n",
              "    <button class=\"colab-df-convert\" onclick=\"convertToInteractive('df-a0427e3e-b20f-4978-b007-e9087cf664ce')\"\n",
              "            title=\"Convert this dataframe to an interactive table.\"\n",
              "            style=\"display:none;\">\n",
              "\n",
              "  <svg xmlns=\"http://www.w3.org/2000/svg\" height=\"24px\" viewBox=\"0 -960 960 960\">\n",
              "    <path d=\"M120-120v-720h720v720H120Zm60-500h600v-160H180v160Zm220 220h160v-160H400v160Zm0 220h160v-160H400v160ZM180-400h160v-160H180v160Zm440 0h160v-160H620v160ZM180-180h160v-160H180v160Zm440 0h160v-160H620v160Z\"/>\n",
              "  </svg>\n",
              "    </button>\n",
              "\n",
              "  <style>\n",
              "    .colab-df-container {\n",
              "      display:flex;\n",
              "      gap: 12px;\n",
              "    }\n",
              "\n",
              "    .colab-df-convert {\n",
              "      background-color: #E8F0FE;\n",
              "      border: none;\n",
              "      border-radius: 50%;\n",
              "      cursor: pointer;\n",
              "      display: none;\n",
              "      fill: #1967D2;\n",
              "      height: 32px;\n",
              "      padding: 0 0 0 0;\n",
              "      width: 32px;\n",
              "    }\n",
              "\n",
              "    .colab-df-convert:hover {\n",
              "      background-color: #E2EBFA;\n",
              "      box-shadow: 0px 1px 2px rgba(60, 64, 67, 0.3), 0px 1px 3px 1px rgba(60, 64, 67, 0.15);\n",
              "      fill: #174EA6;\n",
              "    }\n",
              "\n",
              "    .colab-df-buttons div {\n",
              "      margin-bottom: 4px;\n",
              "    }\n",
              "\n",
              "    [theme=dark] .colab-df-convert {\n",
              "      background-color: #3B4455;\n",
              "      fill: #D2E3FC;\n",
              "    }\n",
              "\n",
              "    [theme=dark] .colab-df-convert:hover {\n",
              "      background-color: #434B5C;\n",
              "      box-shadow: 0px 1px 3px 1px rgba(0, 0, 0, 0.15);\n",
              "      filter: drop-shadow(0px 1px 2px rgba(0, 0, 0, 0.3));\n",
              "      fill: #FFFFFF;\n",
              "    }\n",
              "  </style>\n",
              "\n",
              "    <script>\n",
              "      const buttonEl =\n",
              "        document.querySelector('#df-a0427e3e-b20f-4978-b007-e9087cf664ce button.colab-df-convert');\n",
              "      buttonEl.style.display =\n",
              "        google.colab.kernel.accessAllowed ? 'block' : 'none';\n",
              "\n",
              "      async function convertToInteractive(key) {\n",
              "        const element = document.querySelector('#df-a0427e3e-b20f-4978-b007-e9087cf664ce');\n",
              "        const dataTable =\n",
              "          await google.colab.kernel.invokeFunction('convertToInteractive',\n",
              "                                                    [key], {});\n",
              "        if (!dataTable) return;\n",
              "\n",
              "        const docLinkHtml = 'Like what you see? Visit the ' +\n",
              "          '<a target=\"_blank\" href=https://colab.research.google.com/notebooks/data_table.ipynb>data table notebook</a>'\n",
              "          + ' to learn more about interactive tables.';\n",
              "        element.innerHTML = '';\n",
              "        dataTable['output_type'] = 'display_data';\n",
              "        await google.colab.output.renderOutput(dataTable, element);\n",
              "        const docLink = document.createElement('div');\n",
              "        docLink.innerHTML = docLinkHtml;\n",
              "        element.appendChild(docLink);\n",
              "      }\n",
              "    </script>\n",
              "  </div>\n",
              "\n",
              "\n",
              "<div id=\"df-ef53a427-c725-4c28-8e78-eb92f7cf919d\">\n",
              "  <button class=\"colab-df-quickchart\" onclick=\"quickchart('df-ef53a427-c725-4c28-8e78-eb92f7cf919d')\"\n",
              "            title=\"Suggest charts\"\n",
              "            style=\"display:none;\">\n",
              "\n",
              "<svg xmlns=\"http://www.w3.org/2000/svg\" height=\"24px\"viewBox=\"0 0 24 24\"\n",
              "     width=\"24px\">\n",
              "    <g>\n",
              "        <path d=\"M19 3H5c-1.1 0-2 .9-2 2v14c0 1.1.9 2 2 2h14c1.1 0 2-.9 2-2V5c0-1.1-.9-2-2-2zM9 17H7v-7h2v7zm4 0h-2V7h2v10zm4 0h-2v-4h2v4z\"/>\n",
              "    </g>\n",
              "</svg>\n",
              "  </button>\n",
              "\n",
              "<style>\n",
              "  .colab-df-quickchart {\n",
              "      --bg-color: #E8F0FE;\n",
              "      --fill-color: #1967D2;\n",
              "      --hover-bg-color: #E2EBFA;\n",
              "      --hover-fill-color: #174EA6;\n",
              "      --disabled-fill-color: #AAA;\n",
              "      --disabled-bg-color: #DDD;\n",
              "  }\n",
              "\n",
              "  [theme=dark] .colab-df-quickchart {\n",
              "      --bg-color: #3B4455;\n",
              "      --fill-color: #D2E3FC;\n",
              "      --hover-bg-color: #434B5C;\n",
              "      --hover-fill-color: #FFFFFF;\n",
              "      --disabled-bg-color: #3B4455;\n",
              "      --disabled-fill-color: #666;\n",
              "  }\n",
              "\n",
              "  .colab-df-quickchart {\n",
              "    background-color: var(--bg-color);\n",
              "    border: none;\n",
              "    border-radius: 50%;\n",
              "    cursor: pointer;\n",
              "    display: none;\n",
              "    fill: var(--fill-color);\n",
              "    height: 32px;\n",
              "    padding: 0;\n",
              "    width: 32px;\n",
              "  }\n",
              "\n",
              "  .colab-df-quickchart:hover {\n",
              "    background-color: var(--hover-bg-color);\n",
              "    box-shadow: 0 1px 2px rgba(60, 64, 67, 0.3), 0 1px 3px 1px rgba(60, 64, 67, 0.15);\n",
              "    fill: var(--button-hover-fill-color);\n",
              "  }\n",
              "\n",
              "  .colab-df-quickchart-complete:disabled,\n",
              "  .colab-df-quickchart-complete:disabled:hover {\n",
              "    background-color: var(--disabled-bg-color);\n",
              "    fill: var(--disabled-fill-color);\n",
              "    box-shadow: none;\n",
              "  }\n",
              "\n",
              "  .colab-df-spinner {\n",
              "    border: 2px solid var(--fill-color);\n",
              "    border-color: transparent;\n",
              "    border-bottom-color: var(--fill-color);\n",
              "    animation:\n",
              "      spin 1s steps(1) infinite;\n",
              "  }\n",
              "\n",
              "  @keyframes spin {\n",
              "    0% {\n",
              "      border-color: transparent;\n",
              "      border-bottom-color: var(--fill-color);\n",
              "      border-left-color: var(--fill-color);\n",
              "    }\n",
              "    20% {\n",
              "      border-color: transparent;\n",
              "      border-left-color: var(--fill-color);\n",
              "      border-top-color: var(--fill-color);\n",
              "    }\n",
              "    30% {\n",
              "      border-color: transparent;\n",
              "      border-left-color: var(--fill-color);\n",
              "      border-top-color: var(--fill-color);\n",
              "      border-right-color: var(--fill-color);\n",
              "    }\n",
              "    40% {\n",
              "      border-color: transparent;\n",
              "      border-right-color: var(--fill-color);\n",
              "      border-top-color: var(--fill-color);\n",
              "    }\n",
              "    60% {\n",
              "      border-color: transparent;\n",
              "      border-right-color: var(--fill-color);\n",
              "    }\n",
              "    80% {\n",
              "      border-color: transparent;\n",
              "      border-right-color: var(--fill-color);\n",
              "      border-bottom-color: var(--fill-color);\n",
              "    }\n",
              "    90% {\n",
              "      border-color: transparent;\n",
              "      border-bottom-color: var(--fill-color);\n",
              "    }\n",
              "  }\n",
              "</style>\n",
              "\n",
              "  <script>\n",
              "    async function quickchart(key) {\n",
              "      const quickchartButtonEl =\n",
              "        document.querySelector('#' + key + ' button');\n",
              "      quickchartButtonEl.disabled = true;  // To prevent multiple clicks.\n",
              "      quickchartButtonEl.classList.add('colab-df-spinner');\n",
              "      try {\n",
              "        const charts = await google.colab.kernel.invokeFunction(\n",
              "            'suggestCharts', [key], {});\n",
              "      } catch (error) {\n",
              "        console.error('Error during call to suggestCharts:', error);\n",
              "      }\n",
              "      quickchartButtonEl.classList.remove('colab-df-spinner');\n",
              "      quickchartButtonEl.classList.add('colab-df-quickchart-complete');\n",
              "    }\n",
              "    (() => {\n",
              "      let quickchartButtonEl =\n",
              "        document.querySelector('#df-ef53a427-c725-4c28-8e78-eb92f7cf919d button');\n",
              "      quickchartButtonEl.style.display =\n",
              "        google.colab.kernel.accessAllowed ? 'block' : 'none';\n",
              "    })();\n",
              "  </script>\n",
              "</div>\n",
              "\n",
              "    </div>\n",
              "  </div>\n"
            ],
            "application/vnd.google.colaboratory.intrinsic+json": {
              "type": "dataframe",
              "summary": "{\n  \"name\": \"df\",\n  \"rows\": 8,\n  \"fields\": [\n    {\n      \"column\": \"encounter_id\",\n      \"properties\": {\n        \"dtype\": \"number\",\n        \"std\": 142655668.1616928,\n        \"min\": 12522.0,\n        \"max\": 443867222.0,\n        \"num_unique_values\": 8,\n        \"samples\": [\n          156815588.29533824,\n          144057399.0,\n          71518.0\n        ],\n        \"semantic_type\": \"\",\n        \"description\": \"\"\n      }\n    },\n    {\n      \"column\": \"patient_nbr\",\n      \"properties\": {\n        \"dtype\": \"number\",\n        \"std\": 61501811.29312312,\n        \"min\": 135.0,\n        \"max\": 189502619.0,\n        \"num_unique_values\": 8,\n        \"samples\": [\n          55051603.79995246,\n          48166798.5,\n          71518.0\n        ],\n        \"semantic_type\": \"\",\n        \"description\": \"\"\n      }\n    },\n    {\n      \"column\": \"admission_type_id\",\n      \"properties\": {\n        \"dtype\": \"number\",\n        \"std\": 25284.542130547074,\n        \"min\": 1.0,\n        \"max\": 71518.0,\n        \"num_unique_values\": 6,\n        \"samples\": [\n          71518.0,\n          2.1002544813893005,\n          8.0\n        ],\n        \"semantic_type\": \"\",\n        \"description\": \"\"\n      }\n    },\n    {\n      \"column\": \"discharge_disposition_id\",\n      \"properties\": {\n        \"dtype\": \"number\",\n        \"std\": 25283.26810195737,\n        \"min\": 1.0,\n        \"max\": 71518.0,\n        \"num_unique_values\": 6,\n        \"samples\": [\n          71518.0,\n          3.593235269442658,\n          28.0\n        ],\n        \"semantic_type\": \"\",\n        \"description\": \"\"\n      }\n    },\n    {\n      \"column\": \"admission_source_id\",\n      \"properties\": {\n        \"dtype\": \"number\",\n        \"std\": 25282.865734229985,\n        \"min\": 1.0,\n        \"max\": 71518.0,\n        \"num_unique_values\": 6,\n        \"samples\": [\n          71518.0,\n          5.657456864006265,\n          25.0\n        ],\n        \"semantic_type\": \"\",\n        \"description\": \"\"\n      }\n    },\n    {\n      \"column\": \"time_in_hospital\",\n      \"properties\": {\n        \"dtype\": \"number\",\n        \"std\": 25283.75292440641,\n        \"min\": 1.0,\n        \"max\": 71518.0,\n        \"num_unique_values\": 8,\n        \"samples\": [\n          4.289130009228446,\n          3.0,\n          71518.0\n        ],\n        \"semantic_type\": \"\",\n        \"description\": \"\"\n      }\n    },\n    {\n      \"column\": \"num_lab_procedures\",\n      \"properties\": {\n        \"dtype\": \"number\",\n        \"std\": 25268.89302930531,\n        \"min\": 1.0,\n        \"max\": 71518.0,\n        \"num_unique_values\": 8,\n        \"samples\": [\n          43.07547750216729,\n          44.0,\n          71518.0\n        ],\n        \"semantic_type\": \"\",\n        \"description\": \"\"\n      }\n    },\n    {\n      \"column\": \"num_procedures\",\n      \"properties\": {\n        \"dtype\": \"number\",\n        \"std\": 25284.815748587425,\n        \"min\": 0.0,\n        \"max\": 71518.0,\n        \"num_unique_values\": 7,\n        \"samples\": [\n          71518.0,\n          1.4305769176990408,\n          2.0\n        ],\n        \"semantic_type\": \"\",\n        \"description\": \"\"\n      }\n    },\n    {\n      \"column\": \"num_medications\",\n      \"properties\": {\n        \"dtype\": \"number\",\n        \"std\": 25277.86674340804,\n        \"min\": 1.0,\n        \"max\": 71518.0,\n        \"num_unique_values\": 8,\n        \"samples\": [\n          15.70502530831399,\n          14.0,\n          71518.0\n        ],\n        \"semantic_type\": \"\",\n        \"description\": \"\"\n      }\n    },\n    {\n      \"column\": \"number_outpatient\",\n      \"properties\": {\n        \"dtype\": \"number\",\n        \"std\": 25283.246160588384,\n        \"min\": 0.0,\n        \"max\": 71518.0,\n        \"num_unique_values\": 5,\n        \"samples\": [\n          0.2800693531698314,\n          42.0,\n          1.0689566542158886\n        ],\n        \"semantic_type\": \"\",\n        \"description\": \"\"\n      }\n    },\n    {\n      \"column\": \"number_emergency\",\n      \"properties\": {\n        \"dtype\": \"number\",\n        \"std\": 25283.28337215728,\n        \"min\": 0.0,\n        \"max\": 71518.0,\n        \"num_unique_values\": 5,\n        \"samples\": [\n          0.10354036745994015,\n          42.0,\n          0.5091865990150676\n        ],\n        \"semantic_type\": \"\",\n        \"description\": \"\"\n      }\n    },\n    {\n      \"column\": \"number_inpatient\",\n      \"properties\": {\n        \"dtype\": \"number\",\n        \"std\": 25284.786161190783,\n        \"min\": 0.0,\n        \"max\": 71518.0,\n        \"num_unique_values\": 5,\n        \"samples\": [\n          0.1778293576442294,\n          12.0,\n          0.6037895326224803\n        ],\n        \"semantic_type\": \"\",\n        \"description\": \"\"\n      }\n    },\n    {\n      \"column\": \"number_diagnoses\",\n      \"properties\": {\n        \"dtype\": \"number\",\n        \"std\": 25282.944792376864,\n        \"min\": 1.0,\n        \"max\": 71518.0,\n        \"num_unique_values\": 8,\n        \"samples\": [\n          7.245700383120333,\n          8.0,\n          71518.0\n        ],\n        \"semantic_type\": \"\",\n        \"description\": \"\"\n      }\n    },\n    {\n      \"column\": \"Treatment\",\n      \"properties\": {\n        \"dtype\": \"number\",\n        \"std\": 25285.349260332463,\n        \"min\": 0.0,\n        \"max\": 71518.0,\n        \"num_unique_values\": 5,\n        \"samples\": [\n          0.21516261640426187,\n          1.0,\n          0.4109379833143849\n        ],\n        \"semantic_type\": \"\",\n        \"description\": \"\"\n      }\n    },\n    {\n      \"column\": \"Insured\",\n      \"properties\": {\n        \"dtype\": \"number\",\n        \"std\": 25285.22625122065,\n        \"min\": 0.0,\n        \"max\": 71518.0,\n        \"num_unique_values\": 5,\n        \"samples\": [\n          0.5659414413154731,\n          1.0,\n          0.495636117720405\n        ],\n        \"semantic_type\": \"\",\n        \"description\": \"\"\n      }\n    },\n    {\n      \"column\": \"Readmission\",\n      \"properties\": {\n        \"dtype\": \"number\",\n        \"std\": 25285.285492953964,\n        \"min\": 0.0,\n        \"max\": 71518.0,\n        \"num_unique_values\": 5,\n        \"samples\": [\n          0.39896249895131297,\n          1.0,\n          0.48968844821067414\n        ],\n        \"semantic_type\": \"\",\n        \"description\": \"\"\n      }\n    }\n  ]\n}"
            }
          },
          "metadata": {},
          "execution_count": 4
        }
      ]
    },
    {
      "cell_type": "markdown",
      "source": [],
      "metadata": {
        "id": "-IZTmvvsYBwX"
      }
    },
    {
      "cell_type": "code",
      "source": [
        "!pip install dowhy==0.8\n",
        "import dowhy\n",
        "from dowhy import CausalModel\n",
        "\n",
        "import pandas as pd\n",
        "import numpy as np"
      ],
      "metadata": {
        "id": "Sxwcsc3L17L8"
      },
      "execution_count": null,
      "outputs": []
    },
    {
      "cell_type": "markdown",
      "source": [
        "\n",
        "\n",
        "---\n",
        "\n",
        "Using DoWhy to estimate the Causal Effect: First define the Causal Graph using the variables that are in the dataset -\n",
        "\n",
        "*   Age\n",
        "*   Race\n",
        "*   Gender\n",
        "*   Treatment\n",
        "*   Insured (Yes/N0)\n",
        "*   Number of Medications\n",
        "*   Number of Procedures\n",
        "*   Number of Emergency Procedures\n",
        "\n",
        "---\n",
        "\n"
      ],
      "metadata": {
        "id": "UEz_vk3BZgk9"
      }
    },
    {
      "cell_type": "code",
      "source": [
        "!apt-get install graphviz libgraphviz-dev pkg-config\n",
        "!pip install --force-reinstall pygraphviz"
      ],
      "metadata": {
        "id": "GihziDWZhbqz"
      },
      "execution_count": null,
      "outputs": []
    },
    {
      "cell_type": "code",
      "source": [
        "import pygraphviz"
      ],
      "metadata": {
        "id": "bVqQOKfHiqOK"
      },
      "execution_count": 13,
      "outputs": []
    },
    {
      "cell_type": "markdown",
      "source": [
        "Will use pygraphviz to explicitly define the relationships between the variables:\n",
        "\n",
        "Building this causal model using a graph helps show and clarify the causal relationships between variables, making the assumptions transparent and easier to understand for me as well as any user who might want to examine the assumptions. This transparency helps in identifying potential biases/confounders that might influence the analysis.\n",
        "\n",
        "\n",
        "Domain Expertise Incorporation:\n",
        "\n",
        "Explicitly defining the causal model allows me to show my domain expertise (which is zero - as I'm neither an insurance nor a medical expert). But living in the US has given me some level of prior knowledge about the relationships between these variables. I'm hoping this ensures the causal assumptions are based on more than mere guesses.\n",
        "\n",
        "\n",
        "Refutation and Validation:\n",
        "\n",
        "A well-defined causal model gives us the ability to do robust refutation and validation checks on the causal estimates. By explicitly stating the assumptions, we assess the sensitivity of the results to violations of these assumptions.\n",
        "\n",
        "\n",
        "Communication and Collaboration:\n",
        "\n",
        "Visualizing the causal model with a graph helps communication/collaboration with those who have far more background than I do. It provides a clear way to share my understanding of the causal relationships underlying the analysis.\n",
        "\n",
        "Targeted Causal Questions:\n",
        "\n",
        "Building a causal model allows us to frame both specific and targeted questions. By focusing on the relationships of interest, one can design experiments or analyses that are better suited to answering our specific research questions.\n",
        "\n",
        "In summary, while DoWhy doesn't demand the model visualization, explicitly specifying the causal model using PyGraphviz helps me get a clear idea of what I am assuming and makes it easier for a real insurance or medical expert to question my assumptions:\n",
        "\n"
      ],
      "metadata": {
        "id": "w_3dSnP8k669"
      }
    },
    {
      "cell_type": "code",
      "source": [
        "causal_graph = \"\"\"digraph {\n",
        "Treatment[label=\"Measurement of Hb1Ac\"];\n",
        "Insured[label=\"Insured Or Not\"];\n",
        "\"Number of Medications\"[label=\"Number of Medications Prescribed to Patient\"];\n",
        "\"Number of Procedures\"[label=\"Number of Procedures Performed\"];\n",
        "\"Number of Emergency Procedures\"[label=\"Number of Emergency Procedures Performed\"];\n",
        "Readmission[label=\"Readmission\"];\n",
        "Treatment -> Readmission;\n",
        "Insured -> Readmission;\n",
        "Insured -> Treatment;\n",
        "\"Number of Medications\" -> Readmission;\n",
        "\"Number of Procedures\" -> Readmission;\n",
        "\"Number of Emergency Procedures\" -> Readmission\n",
        "}\"\"\""
      ],
      "metadata": {
        "id": "63rHZCCrvAec"
      },
      "execution_count": 49,
      "outputs": []
    },
    {
      "cell_type": "code",
      "source": [
        "model = dowhy.CausalModel(\n",
        "    data=df,\n",
        "    graph=causal_graph,\n",
        "    treatment=[\"Treatment\"],\n",
        "    outcome=\"Readmission\",\n",
        ")\n",
        "\n",
        "model.view_model()\n",
        "\n",
        "from IPython.display import Image, display\n",
        "# Display the image (without forcing dimensions)\n",
        "display(Image(filename=\"causal_model.png\", width=800, height=200))"
      ],
      "metadata": {
        "colab": {
          "base_uri": "https://localhost:8080/",
          "height": 217
        },
        "id": "0wXrCQF_xef-",
        "outputId": "9360de02-9287-4b5e-f80b-d19fa6cb07ec"
      },
      "execution_count": 69,
      "outputs": [
        {
          "output_type": "display_data",
          "data": {
            "image/png": "[encoded data removed]",
            "text/plain": [
              "<IPython.core.display.Image object>"
            ]
          },
          "metadata": {
            "image/png": {
              "width": 800,
              "height": 200
            }
          }
        }
      ]
    },
    {
      "source": [
        "# Identify the causal effect\n",
        "identified_estimand = model.identify_effect(proceed_when_unidentifiable=True)\n",
        "print(identified_estimand)\n"
      ],
      "cell_type": "code",
      "metadata": {
        "colab": {
          "base_uri": "https://localhost:8080/"
        },
        "id": "ERseP3-I18CF",
        "outputId": "0bde0f23-711f-42c6-dbb4-99a7c843bb35"
      },
      "execution_count": 70,
      "outputs": [
        {
          "output_type": "stream",
          "name": "stdout",
          "text": [
            "Estimand type: nonparametric-ate\n",
            "\n",
            "### Estimand : 1\n",
            "Estimand name: backdoor\n",
            "Estimand expression:\n",
            "     d                              \n",
            "────────────(E[Readmission|Insured])\n",
            "d[Treatment]                        \n",
            "Estimand assumption 1, Unconfoundedness: If U→{Treatment} and U→Readmission then P(Readmission|Treatment,Insured,U) = P(Readmission|Treatment,Insured)\n",
            "\n",
            "### Estimand : 2\n",
            "Estimand name: iv\n",
            "No such variable(s) found!\n",
            "\n",
            "### Estimand : 3\n",
            "Estimand name: frontdoor\n",
            "No such variable(s) found!\n",
            "\n"
          ]
        }
      ]
    },
    {
      "cell_type": "code",
      "source": [
        "estimate = model.estimate_effect(identified_estimand, method_name=\"backdoor.propensity_score_stratification\")\n",
        "print(estimate)"
      ],
      "metadata": {
        "colab": {
          "base_uri": "https://localhost:8080/"
        },
        "id": "Lf9c98yI2OQQ",
        "outputId": "b6014d28-a398-46fc-bbd1-afd661cd464b"
      },
      "execution_count": 71,
      "outputs": [
        {
          "output_type": "stream",
          "name": "stdout",
          "text": [
            "propensity_score_stratification\n"
          ]
        },
        {
          "output_type": "stream",
          "name": "stderr",
          "text": [
            "/usr/local/lib/python3.11/dist-packages/sklearn/utils/validation.py:1408: DataConversionWarning: A column-vector y was passed when a 1d array was expected. Please change the shape of y to (n_samples, ), for example using ravel().\n",
            "  y = column_or_1d(y, warn=True)\n"
          ]
        },
        {
          "output_type": "stream",
          "name": "stdout",
          "text": [
            "*** Causal Estimate ***\n",
            "\n",
            "## Identified estimand\n",
            "Estimand type: nonparametric-ate\n",
            "\n",
            "### Estimand : 1\n",
            "Estimand name: backdoor\n",
            "Estimand expression:\n",
            "     d                              \n",
            "────────────(E[Readmission|Insured])\n",
            "d[Treatment]                        \n",
            "Estimand assumption 1, Unconfoundedness: If U→{Treatment} and U→Readmission then P(Readmission|Treatment,Insured,U) = P(Readmission|Treatment,Insured)\n",
            "\n",
            "## Realized estimand\n",
            "b: Readmission~Treatment+Insured\n",
            "Target units: ate\n",
            "\n",
            "## Estimate\n",
            "Mean value: 0.09593524401652559\n",
            "\n"
          ]
        }
      ]
    },
    {
      "cell_type": "code",
      "source": [
        "estimate = model.estimate_effect(identified_estimand, method_name=\"backdoor.propensity_score_weighting\", target_units = \"ate\")\n",
        "print(estimate)"
      ],
      "metadata": {
        "colab": {
          "base_uri": "https://localhost:8080/"
        },
        "id": "L6Nzc1ry2cb9",
        "outputId": "005c12a1-e6b4-49a9-c158-7d7ee09cf09b"
      },
      "execution_count": 72,
      "outputs": [
        {
          "output_type": "stream",
          "name": "stdout",
          "text": [
            "propensity_score_weighting\n"
          ]
        },
        {
          "output_type": "stream",
          "name": "stderr",
          "text": [
            "/usr/local/lib/python3.11/dist-packages/sklearn/utils/validation.py:1408: DataConversionWarning: A column-vector y was passed when a 1d array was expected. Please change the shape of y to (n_samples, ), for example using ravel().\n",
            "  y = column_or_1d(y, warn=True)\n"
          ]
        },
        {
          "output_type": "stream",
          "name": "stdout",
          "text": [
            "*** Causal Estimate ***\n",
            "\n",
            "## Identified estimand\n",
            "Estimand type: nonparametric-ate\n",
            "\n",
            "### Estimand : 1\n",
            "Estimand name: backdoor\n",
            "Estimand expression:\n",
            "     d                              \n",
            "────────────(E[Readmission|Insured])\n",
            "d[Treatment]                        \n",
            "Estimand assumption 1, Unconfoundedness: If U→{Treatment} and U→Readmission then P(Readmission|Treatment,Insured,U) = P(Readmission|Treatment,Insured)\n",
            "\n",
            "## Realized estimand\n",
            "b: Readmission~Treatment+Insured\n",
            "Target units: ate\n",
            "\n",
            "## Estimate\n",
            "Mean value: 0.09593524331334663\n",
            "\n"
          ]
        }
      ]
    },
    {
      "cell_type": "code",
      "source": [
        "estimate = model.estimate_effect(identified_estimand, method_name=\"backdoor.propensity_score_weighting\", target_units = \"att\")\n",
        "print(estimate)"
      ],
      "metadata": {
        "colab": {
          "base_uri": "https://localhost:8080/"
        },
        "id": "rbB4u8wv2w9b",
        "outputId": "e3425ad9-dd5e-48e3-8bde-fbbed4628c19"
      },
      "execution_count": 73,
      "outputs": [
        {
          "output_type": "stream",
          "name": "stdout",
          "text": [
            "propensity_score_weighting\n",
            "*** Causal Estimate ***\n",
            "\n",
            "## Identified estimand\n",
            "Estimand type: nonparametric-ate\n",
            "\n",
            "### Estimand : 1\n",
            "Estimand name: backdoor\n",
            "Estimand expression:\n",
            "     d                              \n",
            "────────────(E[Readmission|Insured])\n",
            "d[Treatment]                        \n",
            "Estimand assumption 1, Unconfoundedness: If U→{Treatment} and U→Readmission then P(Readmission|Treatment,Insured,U) = P(Readmission|Treatment,Insured)\n",
            "\n",
            "## Realized estimand\n",
            "b: Readmission~Treatment+Insured\n",
            "Target units: att\n",
            "\n",
            "## Estimate\n",
            "Mean value: 0.09677112445134556\n",
            "\n"
          ]
        },
        {
          "output_type": "stream",
          "name": "stderr",
          "text": [
            "/usr/local/lib/python3.11/dist-packages/sklearn/utils/validation.py:1408: DataConversionWarning: A column-vector y was passed when a 1d array was expected. Please change the shape of y to (n_samples, ), for example using ravel().\n",
            "  y = column_or_1d(y, warn=True)\n"
          ]
        }
      ]
    },
    {
      "cell_type": "code",
      "source": [
        "estimate = model.estimate_effect(identified_estimand, method_name=\"backdoor.propensity_score_weighting\", target_units = \"atc\")\n",
        "print(estimate)"
      ],
      "metadata": {
        "colab": {
          "base_uri": "https://localhost:8080/"
        },
        "id": "CmKMcA4z2zRj",
        "outputId": "aa5f2357-bd15-4fce-cf3d-116a5597e539"
      },
      "execution_count": 74,
      "outputs": [
        {
          "output_type": "stream",
          "name": "stdout",
          "text": [
            "propensity_score_weighting\n",
            "*** Causal Estimate ***\n",
            "\n",
            "## Identified estimand\n",
            "Estimand type: nonparametric-ate\n",
            "\n",
            "### Estimand : 1\n",
            "Estimand name: backdoor\n",
            "Estimand expression:\n",
            "     d                              \n",
            "────────────(E[Readmission|Insured])\n",
            "d[Treatment]                        \n",
            "Estimand assumption 1, Unconfoundedness: If U→{Treatment} and U→Readmission then P(Readmission|Treatment,Insured,U) = P(Readmission|Treatment,Insured)\n",
            "\n",
            "## Realized estimand\n",
            "b: Readmission~Treatment+Insured\n",
            "Target units: atc\n",
            "\n",
            "## Estimate\n",
            "Mean value: 0.0957061165375081\n",
            "\n"
          ]
        },
        {
          "output_type": "stream",
          "name": "stderr",
          "text": [
            "/usr/local/lib/python3.11/dist-packages/sklearn/utils/validation.py:1408: DataConversionWarning: A column-vector y was passed when a 1d array was expected. Please change the shape of y to (n_samples, ), for example using ravel().\n",
            "  y = column_or_1d(y, warn=True)\n"
          ]
        }
      ]
    },
    {
      "cell_type": "code",
      "source": [
        "refute1_results = model.refute_estimate(identified_estimand, estimate, method_name=\"random_common_cause\")\n",
        "print(refute1_results)"
      ],
      "metadata": {
        "id": "WkRxC01n3MVY"
      },
      "execution_count": null,
      "outputs": []
    },
    {
      "cell_type": "code",
      "source": [
        "refute2_results = model.refute_estimate(identified_estimand, estimate, method_name=\"data_subset_refuter\")\n",
        "print(refute2_results)"
      ],
      "metadata": {
        "id": "8Tj56IF83XbF"
      },
      "execution_count": null,
      "outputs": []
    }
  ]
}